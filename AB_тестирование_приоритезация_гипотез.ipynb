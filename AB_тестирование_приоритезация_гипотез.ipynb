{
 "cells": [
  {
   "cell_type": "markdown",
   "metadata": {},
   "source": [
    "# Проверка статистических гипотез."
   ]
  },
  {
   "cell_type": "markdown",
   "metadata": {},
   "source": [
    "**Задача: приоритизировать гипотезы и провести A/B тестирование**"
   ]
  },
  {
   "cell_type": "markdown",
   "metadata": {},
   "source": [
    "## Приоритезация гипотез"
   ]
  },
  {
   "cell_type": "code",
   "execution_count": 1,
   "metadata": {},
   "outputs": [],
   "source": [
    "# Выгрузим все необходимые библиотеки \n",
    "import pandas as pd\n",
    "import datetime as dt\n",
    "import numpy as np\n",
    "import matplotlib.pyplot as plt\n",
    "import warnings\n",
    "warnings.filterwarnings(\"ignore\", category=FutureWarning)\n",
    "import seaborn as sns\n",
    "import scipy.stats as stats"
   ]
  },
  {
   "cell_type": "markdown",
   "metadata": {},
   "source": [
    "### Параметр ICE"
   ]
  },
  {
   "cell_type": "code",
   "execution_count": 2,
   "metadata": {},
   "outputs": [],
   "source": [
    "# Откроем файл с гипотезами\n",
    "try:\n",
    "    hypothesis = pd.read_csv('/datasets/hypothesis.csv', sep=',')\n",
    "except:\n",
    "    hypothesis = pd.read_csv('hypothesis.csv', sep=',')\n"
   ]
  },
  {
   "cell_type": "code",
   "execution_count": 3,
   "metadata": {
    "scrolled": true
   },
   "outputs": [
    {
     "data": {
      "text/html": [
       "<style type=\"text/css\">\n",
       "#T_c5f42_row0_col1, #T_c5f42_row6_col5, #T_c5f42_row7_col2, #T_c5f42_row7_col3, #T_c5f42_row7_col4, #T_c5f42_row7_col5, #T_c5f42_row8_col5 {\n",
       "  background-color: #ebf3eb;\n",
       "  color: #000000;\n",
       "}\n",
       "#T_c5f42_row0_col2 {\n",
       "  background-color: #1a8d1a;\n",
       "  color: #f1f1f1;\n",
       "}\n",
       "#T_c5f42_row0_col3, #T_c5f42_row0_col5, #T_c5f42_row1_col2, #T_c5f42_row2_col1, #T_c5f42_row5_col4 {\n",
       "  background-color: #008000;\n",
       "  color: #f1f1f1;\n",
       "}\n",
       "#T_c5f42_row0_col4, #T_c5f42_row2_col4, #T_c5f42_row3_col1, #T_c5f42_row5_col2 {\n",
       "  background-color: #83c083;\n",
       "  color: #000000;\n",
       "}\n",
       "#T_c5f42_row1_col1, #T_c5f42_row3_col2, #T_c5f42_row3_col4, #T_c5f42_row4_col2, #T_c5f42_row4_col4, #T_c5f42_row6_col2, #T_c5f42_row7_col1, #T_c5f42_row8_col1, #T_c5f42_row8_col4 {\n",
       "  background-color: #b7dab7;\n",
       "  color: #000000;\n",
       "}\n",
       "#T_c5f42_row1_col3, #T_c5f42_row2_col3, #T_c5f42_row3_col3 {\n",
       "  background-color: #1d8e1d;\n",
       "  color: #f1f1f1;\n",
       "}\n",
       "#T_c5f42_row1_col4 {\n",
       "  background-color: #68b368;\n",
       "  color: #f1f1f1;\n",
       "}\n",
       "#T_c5f42_row1_col5 {\n",
       "  background-color: #2f972f;\n",
       "  color: #f1f1f1;\n",
       "}\n",
       "#T_c5f42_row2_col2, #T_c5f42_row2_col5 {\n",
       "  background-color: #4ea64e;\n",
       "  color: #f1f1f1;\n",
       "}\n",
       "#T_c5f42_row3_col5 {\n",
       "  background-color: #7dbd7d;\n",
       "  color: #000000;\n",
       "}\n",
       "#T_c5f42_row4_col1, #T_c5f42_row6_col1, #T_c5f42_row6_col4 {\n",
       "  background-color: #349934;\n",
       "  color: #f1f1f1;\n",
       "}\n",
       "#T_c5f42_row4_col3 {\n",
       "  background-color: #3a9c3a;\n",
       "  color: #f1f1f1;\n",
       "}\n",
       "#T_c5f42_row4_col5 {\n",
       "  background-color: #8dc58d;\n",
       "  color: #000000;\n",
       "}\n",
       "#T_c5f42_row5_col1, #T_c5f42_row8_col2 {\n",
       "  background-color: #d1e6d1;\n",
       "  color: #000000;\n",
       "}\n",
       "#T_c5f42_row5_col3 {\n",
       "  background-color: #92c892;\n",
       "  color: #000000;\n",
       "}\n",
       "#T_c5f42_row5_col5 {\n",
       "  background-color: #dbebdb;\n",
       "  color: #000000;\n",
       "}\n",
       "#T_c5f42_row6_col3 {\n",
       "  background-color: #b0d6b0;\n",
       "  color: #000000;\n",
       "}\n",
       "#T_c5f42_row8_col3 {\n",
       "  background-color: #cde5cd;\n",
       "  color: #000000;\n",
       "}\n",
       "</style>\n",
       "<table id=\"T_c5f42_\">\n",
       "  <thead>\n",
       "    <tr>\n",
       "      <th class=\"blank level0\" >&nbsp;</th>\n",
       "      <th class=\"col_heading level0 col0\" >Hypothesis</th>\n",
       "      <th class=\"col_heading level0 col1\" >Reach</th>\n",
       "      <th class=\"col_heading level0 col2\" >Impact</th>\n",
       "      <th class=\"col_heading level0 col3\" >Confidence</th>\n",
       "      <th class=\"col_heading level0 col4\" >Efforts</th>\n",
       "      <th class=\"col_heading level0 col5\" >ICE</th>\n",
       "    </tr>\n",
       "  </thead>\n",
       "  <tbody>\n",
       "    <tr>\n",
       "      <th id=\"T_c5f42_level0_row0\" class=\"row_heading level0 row0\" >8</th>\n",
       "      <td id=\"T_c5f42_row0_col0\" class=\"data row0 col0\" >Запустить акцию, дающую скидку на товар в день рождения</td>\n",
       "      <td id=\"T_c5f42_row0_col1\" class=\"data row0 col1\" >1</td>\n",
       "      <td id=\"T_c5f42_row0_col2\" class=\"data row0 col2\" >9</td>\n",
       "      <td id=\"T_c5f42_row0_col3\" class=\"data row0 col3\" >9</td>\n",
       "      <td id=\"T_c5f42_row0_col4\" class=\"data row0 col4\" >5</td>\n",
       "      <td id=\"T_c5f42_row0_col5\" class=\"data row0 col5\" >16.000000</td>\n",
       "    </tr>\n",
       "    <tr>\n",
       "      <th id=\"T_c5f42_level0_row1\" class=\"row_heading level0 row1\" >0</th>\n",
       "      <td id=\"T_c5f42_row1_col0\" class=\"data row1 col0\" >Добавить два новых канала привлечения трафика, что позволит привлекать на 30% больше пользователей</td>\n",
       "      <td id=\"T_c5f42_row1_col1\" class=\"data row1 col1\" >3</td>\n",
       "      <td id=\"T_c5f42_row1_col2\" class=\"data row1 col2\" >10</td>\n",
       "      <td id=\"T_c5f42_row1_col3\" class=\"data row1 col3\" >8</td>\n",
       "      <td id=\"T_c5f42_row1_col4\" class=\"data row1 col4\" >6</td>\n",
       "      <td id=\"T_c5f42_row1_col5\" class=\"data row1 col5\" >13.000000</td>\n",
       "    </tr>\n",
       "    <tr>\n",
       "      <th id=\"T_c5f42_level0_row2\" class=\"row_heading level0 row2\" >7</th>\n",
       "      <td id=\"T_c5f42_row2_col0\" class=\"data row2 col0\" >Добавить форму подписки на все основные страницы, чтобы собрать базу клиентов для email-рассылок</td>\n",
       "      <td id=\"T_c5f42_row2_col1\" class=\"data row2 col1\" >10</td>\n",
       "      <td id=\"T_c5f42_row2_col2\" class=\"data row2 col2\" >7</td>\n",
       "      <td id=\"T_c5f42_row2_col3\" class=\"data row2 col3\" >8</td>\n",
       "      <td id=\"T_c5f42_row2_col4\" class=\"data row2 col4\" >5</td>\n",
       "      <td id=\"T_c5f42_row2_col5\" class=\"data row2 col5\" >11.000000</td>\n",
       "    </tr>\n",
       "    <tr>\n",
       "      <th id=\"T_c5f42_level0_row3\" class=\"row_heading level0 row3\" >6</th>\n",
       "      <td id=\"T_c5f42_row3_col0\" class=\"data row3 col0\" >Показать на главной странице баннеры с актуальными акциями и распродажами, чтобы увеличить конверсию</td>\n",
       "      <td id=\"T_c5f42_row3_col1\" class=\"data row3 col1\" >5</td>\n",
       "      <td id=\"T_c5f42_row3_col2\" class=\"data row3 col2\" >3</td>\n",
       "      <td id=\"T_c5f42_row3_col3\" class=\"data row3 col3\" >8</td>\n",
       "      <td id=\"T_c5f42_row3_col4\" class=\"data row3 col4\" >3</td>\n",
       "      <td id=\"T_c5f42_row3_col5\" class=\"data row3 col5\" >8.000000</td>\n",
       "    </tr>\n",
       "    <tr>\n",
       "      <th id=\"T_c5f42_level0_row4\" class=\"row_heading level0 row4\" >2</th>\n",
       "      <td id=\"T_c5f42_row4_col0\" class=\"data row4 col0\" >Добавить блоки рекомендаций товаров на сайт интернет магазина, чтобы повысить конверсию и средний чек заказа</td>\n",
       "      <td id=\"T_c5f42_row4_col1\" class=\"data row4 col1\" >8</td>\n",
       "      <td id=\"T_c5f42_row4_col2\" class=\"data row4 col2\" >3</td>\n",
       "      <td id=\"T_c5f42_row4_col3\" class=\"data row4 col3\" >7</td>\n",
       "      <td id=\"T_c5f42_row4_col4\" class=\"data row4 col4\" >3</td>\n",
       "      <td id=\"T_c5f42_row4_col5\" class=\"data row4 col5\" >7.000000</td>\n",
       "    </tr>\n",
       "    <tr>\n",
       "      <th id=\"T_c5f42_level0_row5\" class=\"row_heading level0 row5\" >1</th>\n",
       "      <td id=\"T_c5f42_row5_col0\" class=\"data row5 col0\" >Запустить собственную службу доставки, что сократит срок доставки заказов</td>\n",
       "      <td id=\"T_c5f42_row5_col1\" class=\"data row5 col1\" >2</td>\n",
       "      <td id=\"T_c5f42_row5_col2\" class=\"data row5 col2\" >5</td>\n",
       "      <td id=\"T_c5f42_row5_col3\" class=\"data row5 col3\" >4</td>\n",
       "      <td id=\"T_c5f42_row5_col4\" class=\"data row5 col4\" >10</td>\n",
       "      <td id=\"T_c5f42_row5_col5\" class=\"data row5 col5\" >2.000000</td>\n",
       "    </tr>\n",
       "    <tr>\n",
       "      <th id=\"T_c5f42_level0_row6\" class=\"row_heading level0 row6\" >3</th>\n",
       "      <td id=\"T_c5f42_row6_col0\" class=\"data row6 col0\" >Изменить структура категорий, что увеличит конверсию, т.к. пользователи быстрее найдут нужный товар</td>\n",
       "      <td id=\"T_c5f42_row6_col1\" class=\"data row6 col1\" >8</td>\n",
       "      <td id=\"T_c5f42_row6_col2\" class=\"data row6 col2\" >3</td>\n",
       "      <td id=\"T_c5f42_row6_col3\" class=\"data row6 col3\" >3</td>\n",
       "      <td id=\"T_c5f42_row6_col4\" class=\"data row6 col4\" >8</td>\n",
       "      <td id=\"T_c5f42_row6_col5\" class=\"data row6 col5\" >1.000000</td>\n",
       "    </tr>\n",
       "    <tr>\n",
       "      <th id=\"T_c5f42_level0_row7\" class=\"row_heading level0 row7\" >4</th>\n",
       "      <td id=\"T_c5f42_row7_col0\" class=\"data row7 col0\" >Изменить цвет фона главной страницы, чтобы увеличить вовлеченность пользователей</td>\n",
       "      <td id=\"T_c5f42_row7_col1\" class=\"data row7 col1\" >3</td>\n",
       "      <td id=\"T_c5f42_row7_col2\" class=\"data row7 col2\" >1</td>\n",
       "      <td id=\"T_c5f42_row7_col3\" class=\"data row7 col3\" >1</td>\n",
       "      <td id=\"T_c5f42_row7_col4\" class=\"data row7 col4\" >1</td>\n",
       "      <td id=\"T_c5f42_row7_col5\" class=\"data row7 col5\" >1.000000</td>\n",
       "    </tr>\n",
       "    <tr>\n",
       "      <th id=\"T_c5f42_level0_row8\" class=\"row_heading level0 row8\" >5</th>\n",
       "      <td id=\"T_c5f42_row8_col0\" class=\"data row8 col0\" >Добавить страницу отзывов клиентов о магазине, что позволит увеличить количество заказов</td>\n",
       "      <td id=\"T_c5f42_row8_col1\" class=\"data row8 col1\" >3</td>\n",
       "      <td id=\"T_c5f42_row8_col2\" class=\"data row8 col2\" >2</td>\n",
       "      <td id=\"T_c5f42_row8_col3\" class=\"data row8 col3\" >2</td>\n",
       "      <td id=\"T_c5f42_row8_col4\" class=\"data row8 col4\" >3</td>\n",
       "      <td id=\"T_c5f42_row8_col5\" class=\"data row8 col5\" >1.000000</td>\n",
       "    </tr>\n",
       "  </tbody>\n",
       "</table>\n"
      ],
      "text/plain": [
       "<pandas.io.formats.style.Styler at 0x7f8fa6f41fd0>"
      ]
     },
     "execution_count": 3,
     "metadata": {},
     "output_type": "execute_result"
    }
   ],
   "source": [
    "#Приоритезируем гипотезы параметром ICE\n",
    "hypothesis['ICE'] = ((hypothesis['Impact'] * hypothesis['Confidence']) / hypothesis['Efforts']).round()\n",
    "\n",
    "pd.set_option('display.max_columns', None)\n",
    "pd.options.display.max_colwidth = 150 \n",
    "\n",
    "#выделим цветом\n",
    "cm = sns.light_palette(\"green\", as_cmap=True)\n",
    "\n",
    "\n",
    "#Сортируем по убыванию\n",
    "hypothesis.sort_values(by='ICE', ascending=False).style.background_gradient(cmap=cm)\n"
   ]
  },
  {
   "cell_type": "markdown",
   "metadata": {},
   "source": [
    "Расчитав параметр ICE мы видим что гипотезы:\n",
    "\n",
    "- **Запустить акцию, дающую скидку на товар в день рождения**\n",
    "- **Добавить два новых канала привлечения трафика, что позволит привлекать на 30% больше пользователей**\n",
    "- **Добавить форму подписки на все основные страницы, чтобы собрать базу клиентов для email-рассылок**\n",
    "\n",
    "находятся в приоритете"
   ]
  },
  {
   "cell_type": "markdown",
   "metadata": {},
   "source": [
    "### Параметр RICE"
   ]
  },
  {
   "cell_type": "code",
   "execution_count": 4,
   "metadata": {
    "scrolled": true
   },
   "outputs": [
    {
     "data": {
      "text/html": [
       "<style type=\"text/css\">\n",
       "#T_0ee21_row0_col1, #T_0ee21_row0_col6, #T_0ee21_row2_col2, #T_0ee21_row4_col3, #T_0ee21_row4_col5, #T_0ee21_row6_col4 {\n",
       "  background-color: #008000;\n",
       "  color: #f1f1f1;\n",
       "}\n",
       "#T_0ee21_row0_col2, #T_0ee21_row0_col5 {\n",
       "  background-color: #4ea64e;\n",
       "  color: #f1f1f1;\n",
       "}\n",
       "#T_0ee21_row0_col3, #T_0ee21_row2_col3, #T_0ee21_row3_col3 {\n",
       "  background-color: #1d8e1d;\n",
       "  color: #f1f1f1;\n",
       "}\n",
       "#T_0ee21_row0_col4, #T_0ee21_row3_col1, #T_0ee21_row4_col4, #T_0ee21_row6_col2 {\n",
       "  background-color: #83c083;\n",
       "  color: #000000;\n",
       "}\n",
       "#T_0ee21_row1_col1, #T_0ee21_row5_col1, #T_0ee21_row5_col4 {\n",
       "  background-color: #349934;\n",
       "  color: #f1f1f1;\n",
       "}\n",
       "#T_0ee21_row1_col2, #T_0ee21_row1_col4, #T_0ee21_row2_col1, #T_0ee21_row3_col2, #T_0ee21_row3_col4, #T_0ee21_row5_col2, #T_0ee21_row7_col1, #T_0ee21_row7_col4, #T_0ee21_row8_col1 {\n",
       "  background-color: #b7dab7;\n",
       "  color: #000000;\n",
       "}\n",
       "#T_0ee21_row1_col3 {\n",
       "  background-color: #3a9c3a;\n",
       "  color: #f1f1f1;\n",
       "}\n",
       "#T_0ee21_row1_col5 {\n",
       "  background-color: #8dc58d;\n",
       "  color: #000000;\n",
       "}\n",
       "#T_0ee21_row1_col6 {\n",
       "  background-color: #78bb78;\n",
       "  color: #000000;\n",
       "}\n",
       "#T_0ee21_row2_col4 {\n",
       "  background-color: #68b368;\n",
       "  color: #f1f1f1;\n",
       "}\n",
       "#T_0ee21_row2_col5 {\n",
       "  background-color: #2f972f;\n",
       "  color: #f1f1f1;\n",
       "}\n",
       "#T_0ee21_row2_col6, #T_0ee21_row3_col6 {\n",
       "  background-color: #9bcc9b;\n",
       "  color: #000000;\n",
       "}\n",
       "#T_0ee21_row3_col5 {\n",
       "  background-color: #7dbd7d;\n",
       "  color: #000000;\n",
       "}\n",
       "#T_0ee21_row4_col1, #T_0ee21_row5_col5, #T_0ee21_row7_col5, #T_0ee21_row8_col2, #T_0ee21_row8_col3, #T_0ee21_row8_col4, #T_0ee21_row8_col5, #T_0ee21_row8_col6 {\n",
       "  background-color: #ebf3eb;\n",
       "  color: #000000;\n",
       "}\n",
       "#T_0ee21_row4_col2 {\n",
       "  background-color: #1a8d1a;\n",
       "  color: #f1f1f1;\n",
       "}\n",
       "#T_0ee21_row4_col6 {\n",
       "  background-color: #cee5ce;\n",
       "  color: #000000;\n",
       "}\n",
       "#T_0ee21_row5_col3 {\n",
       "  background-color: #b0d6b0;\n",
       "  color: #000000;\n",
       "}\n",
       "#T_0ee21_row5_col6 {\n",
       "  background-color: #deedde;\n",
       "  color: #000000;\n",
       "}\n",
       "#T_0ee21_row6_col1, #T_0ee21_row7_col2 {\n",
       "  background-color: #d1e6d1;\n",
       "  color: #000000;\n",
       "}\n",
       "#T_0ee21_row6_col3 {\n",
       "  background-color: #92c892;\n",
       "  color: #000000;\n",
       "}\n",
       "#T_0ee21_row6_col5 {\n",
       "  background-color: #dbebdb;\n",
       "  color: #000000;\n",
       "}\n",
       "#T_0ee21_row6_col6, #T_0ee21_row7_col6 {\n",
       "  background-color: #e9f2e9;\n",
       "  color: #000000;\n",
       "}\n",
       "#T_0ee21_row7_col3 {\n",
       "  background-color: #cde5cd;\n",
       "  color: #000000;\n",
       "}\n",
       "</style>\n",
       "<table id=\"T_0ee21_\">\n",
       "  <thead>\n",
       "    <tr>\n",
       "      <th class=\"blank level0\" >&nbsp;</th>\n",
       "      <th class=\"col_heading level0 col0\" >Hypothesis</th>\n",
       "      <th class=\"col_heading level0 col1\" >Reach</th>\n",
       "      <th class=\"col_heading level0 col2\" >Impact</th>\n",
       "      <th class=\"col_heading level0 col3\" >Confidence</th>\n",
       "      <th class=\"col_heading level0 col4\" >Efforts</th>\n",
       "      <th class=\"col_heading level0 col5\" >ICE</th>\n",
       "      <th class=\"col_heading level0 col6\" >RICE</th>\n",
       "    </tr>\n",
       "  </thead>\n",
       "  <tbody>\n",
       "    <tr>\n",
       "      <th id=\"T_0ee21_level0_row0\" class=\"row_heading level0 row0\" >7</th>\n",
       "      <td id=\"T_0ee21_row0_col0\" class=\"data row0 col0\" >Добавить форму подписки на все основные страницы, чтобы собрать базу клиентов для email-рассылок</td>\n",
       "      <td id=\"T_0ee21_row0_col1\" class=\"data row0 col1\" >10</td>\n",
       "      <td id=\"T_0ee21_row0_col2\" class=\"data row0 col2\" >7</td>\n",
       "      <td id=\"T_0ee21_row0_col3\" class=\"data row0 col3\" >8</td>\n",
       "      <td id=\"T_0ee21_row0_col4\" class=\"data row0 col4\" >5</td>\n",
       "      <td id=\"T_0ee21_row0_col5\" class=\"data row0 col5\" >11.000000</td>\n",
       "      <td id=\"T_0ee21_row0_col6\" class=\"data row0 col6\" >112.000000</td>\n",
       "    </tr>\n",
       "    <tr>\n",
       "      <th id=\"T_0ee21_level0_row1\" class=\"row_heading level0 row1\" >2</th>\n",
       "      <td id=\"T_0ee21_row1_col0\" class=\"data row1 col0\" >Добавить блоки рекомендаций товаров на сайт интернет магазина, чтобы повысить конверсию и средний чек заказа</td>\n",
       "      <td id=\"T_0ee21_row1_col1\" class=\"data row1 col1\" >8</td>\n",
       "      <td id=\"T_0ee21_row1_col2\" class=\"data row1 col2\" >3</td>\n",
       "      <td id=\"T_0ee21_row1_col3\" class=\"data row1 col3\" >7</td>\n",
       "      <td id=\"T_0ee21_row1_col4\" class=\"data row1 col4\" >3</td>\n",
       "      <td id=\"T_0ee21_row1_col5\" class=\"data row1 col5\" >7.000000</td>\n",
       "      <td id=\"T_0ee21_row1_col6\" class=\"data row1 col6\" >56.000000</td>\n",
       "    </tr>\n",
       "    <tr>\n",
       "      <th id=\"T_0ee21_level0_row2\" class=\"row_heading level0 row2\" >0</th>\n",
       "      <td id=\"T_0ee21_row2_col0\" class=\"data row2 col0\" >Добавить два новых канала привлечения трафика, что позволит привлекать на 30% больше пользователей</td>\n",
       "      <td id=\"T_0ee21_row2_col1\" class=\"data row2 col1\" >3</td>\n",
       "      <td id=\"T_0ee21_row2_col2\" class=\"data row2 col2\" >10</td>\n",
       "      <td id=\"T_0ee21_row2_col3\" class=\"data row2 col3\" >8</td>\n",
       "      <td id=\"T_0ee21_row2_col4\" class=\"data row2 col4\" >6</td>\n",
       "      <td id=\"T_0ee21_row2_col5\" class=\"data row2 col5\" >13.000000</td>\n",
       "      <td id=\"T_0ee21_row2_col6\" class=\"data row2 col6\" >40.000000</td>\n",
       "    </tr>\n",
       "    <tr>\n",
       "      <th id=\"T_0ee21_level0_row3\" class=\"row_heading level0 row3\" >6</th>\n",
       "      <td id=\"T_0ee21_row3_col0\" class=\"data row3 col0\" >Показать на главной странице баннеры с актуальными акциями и распродажами, чтобы увеличить конверсию</td>\n",
       "      <td id=\"T_0ee21_row3_col1\" class=\"data row3 col1\" >5</td>\n",
       "      <td id=\"T_0ee21_row3_col2\" class=\"data row3 col2\" >3</td>\n",
       "      <td id=\"T_0ee21_row3_col3\" class=\"data row3 col3\" >8</td>\n",
       "      <td id=\"T_0ee21_row3_col4\" class=\"data row3 col4\" >3</td>\n",
       "      <td id=\"T_0ee21_row3_col5\" class=\"data row3 col5\" >8.000000</td>\n",
       "      <td id=\"T_0ee21_row3_col6\" class=\"data row3 col6\" >40.000000</td>\n",
       "    </tr>\n",
       "    <tr>\n",
       "      <th id=\"T_0ee21_level0_row4\" class=\"row_heading level0 row4\" >8</th>\n",
       "      <td id=\"T_0ee21_row4_col0\" class=\"data row4 col0\" >Запустить акцию, дающую скидку на товар в день рождения</td>\n",
       "      <td id=\"T_0ee21_row4_col1\" class=\"data row4 col1\" >1</td>\n",
       "      <td id=\"T_0ee21_row4_col2\" class=\"data row4 col2\" >9</td>\n",
       "      <td id=\"T_0ee21_row4_col3\" class=\"data row4 col3\" >9</td>\n",
       "      <td id=\"T_0ee21_row4_col4\" class=\"data row4 col4\" >5</td>\n",
       "      <td id=\"T_0ee21_row4_col5\" class=\"data row4 col5\" >16.000000</td>\n",
       "      <td id=\"T_0ee21_row4_col6\" class=\"data row4 col6\" >16.200000</td>\n",
       "    </tr>\n",
       "    <tr>\n",
       "      <th id=\"T_0ee21_level0_row5\" class=\"row_heading level0 row5\" >3</th>\n",
       "      <td id=\"T_0ee21_row5_col0\" class=\"data row5 col0\" >Изменить структура категорий, что увеличит конверсию, т.к. пользователи быстрее найдут нужный товар</td>\n",
       "      <td id=\"T_0ee21_row5_col1\" class=\"data row5 col1\" >8</td>\n",
       "      <td id=\"T_0ee21_row5_col2\" class=\"data row5 col2\" >3</td>\n",
       "      <td id=\"T_0ee21_row5_col3\" class=\"data row5 col3\" >3</td>\n",
       "      <td id=\"T_0ee21_row5_col4\" class=\"data row5 col4\" >8</td>\n",
       "      <td id=\"T_0ee21_row5_col5\" class=\"data row5 col5\" >1.000000</td>\n",
       "      <td id=\"T_0ee21_row5_col6\" class=\"data row5 col6\" >9.000000</td>\n",
       "    </tr>\n",
       "    <tr>\n",
       "      <th id=\"T_0ee21_level0_row6\" class=\"row_heading level0 row6\" >1</th>\n",
       "      <td id=\"T_0ee21_row6_col0\" class=\"data row6 col0\" >Запустить собственную службу доставки, что сократит срок доставки заказов</td>\n",
       "      <td id=\"T_0ee21_row6_col1\" class=\"data row6 col1\" >2</td>\n",
       "      <td id=\"T_0ee21_row6_col2\" class=\"data row6 col2\" >5</td>\n",
       "      <td id=\"T_0ee21_row6_col3\" class=\"data row6 col3\" >4</td>\n",
       "      <td id=\"T_0ee21_row6_col4\" class=\"data row6 col4\" >10</td>\n",
       "      <td id=\"T_0ee21_row6_col5\" class=\"data row6 col5\" >2.000000</td>\n",
       "      <td id=\"T_0ee21_row6_col6\" class=\"data row6 col6\" >4.000000</td>\n",
       "    </tr>\n",
       "    <tr>\n",
       "      <th id=\"T_0ee21_level0_row7\" class=\"row_heading level0 row7\" >5</th>\n",
       "      <td id=\"T_0ee21_row7_col0\" class=\"data row7 col0\" >Добавить страницу отзывов клиентов о магазине, что позволит увеличить количество заказов</td>\n",
       "      <td id=\"T_0ee21_row7_col1\" class=\"data row7 col1\" >3</td>\n",
       "      <td id=\"T_0ee21_row7_col2\" class=\"data row7 col2\" >2</td>\n",
       "      <td id=\"T_0ee21_row7_col3\" class=\"data row7 col3\" >2</td>\n",
       "      <td id=\"T_0ee21_row7_col4\" class=\"data row7 col4\" >3</td>\n",
       "      <td id=\"T_0ee21_row7_col5\" class=\"data row7 col5\" >1.000000</td>\n",
       "      <td id=\"T_0ee21_row7_col6\" class=\"data row7 col6\" >4.000000</td>\n",
       "    </tr>\n",
       "    <tr>\n",
       "      <th id=\"T_0ee21_level0_row8\" class=\"row_heading level0 row8\" >4</th>\n",
       "      <td id=\"T_0ee21_row8_col0\" class=\"data row8 col0\" >Изменить цвет фона главной страницы, чтобы увеличить вовлеченность пользователей</td>\n",
       "      <td id=\"T_0ee21_row8_col1\" class=\"data row8 col1\" >3</td>\n",
       "      <td id=\"T_0ee21_row8_col2\" class=\"data row8 col2\" >1</td>\n",
       "      <td id=\"T_0ee21_row8_col3\" class=\"data row8 col3\" >1</td>\n",
       "      <td id=\"T_0ee21_row8_col4\" class=\"data row8 col4\" >1</td>\n",
       "      <td id=\"T_0ee21_row8_col5\" class=\"data row8 col5\" >1.000000</td>\n",
       "      <td id=\"T_0ee21_row8_col6\" class=\"data row8 col6\" >3.000000</td>\n",
       "    </tr>\n",
       "  </tbody>\n",
       "</table>\n"
      ],
      "text/plain": [
       "<pandas.io.formats.style.Styler at 0x7f8faab25b80>"
      ]
     },
     "execution_count": 4,
     "metadata": {},
     "output_type": "execute_result"
    }
   ],
   "source": [
    "hypothesis['RICE'] = (hypothesis['Reach'] * hypothesis['Impact'] * hypothesis['Confidence']) / hypothesis['Efforts']\n",
    "\n",
    "pd.set_option('display.max_columns', None)\n",
    "pd.options.display.max_colwidth = 150\n",
    "\n",
    "\n",
    "hypothesis.sort_values(by='RICE', ascending=False).style.background_gradient(cmap=cm)"
   ]
  },
  {
   "cell_type": "markdown",
   "metadata": {},
   "source": [
    "Применив фреймворк RICE, мы видим что гипотезы\n",
    "- **Добавить форму подписки на все основные страницы, чтобы собрать базу клиентов для email-рассылок**\n",
    "- **Добавить блоки рекомендаций товаров на сайт интернет магазина, чтобы повысить конверсию и средний чек заказа**\n",
    "- **Добавить два новых канала привлечения трафика, что позволит привлекать на 30% больше пользователей**\n",
    "\n",
    " находятся в приритете. Однако на первом месте гипотеза **Добавить форму подписки на все основные страницы, чтобы собрать базу клиентов для email-рассылок**."
   ]
  },
  {
   "cell_type": "markdown",
   "metadata": {},
   "source": [
    "**Вывод:**"
   ]
  },
  {
   "cell_type": "markdown",
   "metadata": {},
   "source": [
    "Применив два фреймворка ICE и RICE мы увидели расхождение в приоритетах гипотез.\n",
    "Это произошло из-за добавления параметра Reach в фреймворке RICE. \n",
    "И в ICE и в RICE в топ-3 попадают гипотезы:\n",
    "\n",
    "- **Добавить форму подписки на все основные страницы, чтобы собрать базу клиентов для email-рассылок**\n",
    "- **Добавить два новых канала привлечения трафика, что позволит привлекать на 30% больше пользователей**\n",
    "\n",
    "Рекомендую начать анализ этих гипотез в первую очередь."
   ]
  },
  {
   "cell_type": "markdown",
   "metadata": {},
   "source": [
    "## Анализ A/B теста"
   ]
  },
  {
   "cell_type": "markdown",
   "metadata": {},
   "source": [
    "#### Информация таблицы Orders"
   ]
  },
  {
   "cell_type": "code",
   "execution_count": 5,
   "metadata": {},
   "outputs": [
    {
     "name": "stdout",
     "output_type": "stream",
     "text": [
      "<class 'pandas.core.frame.DataFrame'>\n",
      "RangeIndex: 1197 entries, 0 to 1196\n",
      "Data columns (total 5 columns):\n",
      " #   Column         Non-Null Count  Dtype \n",
      "---  ------         --------------  ----- \n",
      " 0   transactionId  1197 non-null   int64 \n",
      " 1   visitorId      1197 non-null   int64 \n",
      " 2   date           1197 non-null   object\n",
      " 3   revenue        1197 non-null   int64 \n",
      " 4   group          1197 non-null   object\n",
      "dtypes: int64(3), object(2)\n",
      "memory usage: 46.9+ KB\n"
     ]
    }
   ],
   "source": [
    "#откроем фрейм с заказами\n",
    "try:\n",
    "    orders = pd.read_csv('/datasets/orders.csv', sep=',')\n",
    "except:\n",
    "    orders = pd.read_csv('orders.csv', sep=',')\n",
    "    \n",
    "#информация о данных таблицы\n",
    "orders.info()"
   ]
  },
  {
   "cell_type": "code",
   "execution_count": 6,
   "metadata": {},
   "outputs": [
    {
     "name": "stdout",
     "output_type": "stream",
     "text": [
      "<class 'pandas.core.frame.DataFrame'>\n",
      "RangeIndex: 1197 entries, 0 to 1196\n",
      "Data columns (total 5 columns):\n",
      " #   Column         Non-Null Count  Dtype         \n",
      "---  ------         --------------  -----         \n",
      " 0   transactionId  1197 non-null   int64         \n",
      " 1   visitorId      1197 non-null   int64         \n",
      " 2   date           1197 non-null   datetime64[ns]\n",
      " 3   revenue        1197 non-null   int64         \n",
      " 4   group          1197 non-null   object        \n",
      "dtypes: datetime64[ns](1), int64(3), object(1)\n",
      "memory usage: 46.9+ KB\n"
     ]
    }
   ],
   "source": [
    "#преобразовываем тип данных в нужный тип\n",
    "orders['date'] = orders['date'].map(lambda x: dt.datetime.strptime(x, '%Y-%m-%d'))\n",
    "\n",
    "orders.info()"
   ]
  },
  {
   "cell_type": "raw",
   "metadata": {},
   "source": [
    "**Пропусков в данных нет типы данных приведены в нужный вид.**"
   ]
  },
  {
   "cell_type": "markdown",
   "metadata": {},
   "source": [
    "#### Информация таблицы visitors"
   ]
  },
  {
   "cell_type": "code",
   "execution_count": 7,
   "metadata": {},
   "outputs": [
    {
     "name": "stdout",
     "output_type": "stream",
     "text": [
      "<class 'pandas.core.frame.DataFrame'>\n",
      "RangeIndex: 62 entries, 0 to 61\n",
      "Data columns (total 3 columns):\n",
      " #   Column    Non-Null Count  Dtype \n",
      "---  ------    --------------  ----- \n",
      " 0   date      62 non-null     object\n",
      " 1   group     62 non-null     object\n",
      " 2   visitors  62 non-null     int64 \n",
      "dtypes: int64(1), object(2)\n",
      "memory usage: 1.6+ KB\n"
     ]
    }
   ],
   "source": [
    "#таблица с пользователями\n",
    "try:\n",
    "    visitors = pd.read_csv('/datasets/visitors.csv', sep=',')\n",
    "except:\n",
    "    visitors = pd.read_csv('visitors.csv', sep=',')\n",
    "#информация о таблице visitors\n",
    "visitors.info()"
   ]
  },
  {
   "cell_type": "code",
   "execution_count": 8,
   "metadata": {},
   "outputs": [
    {
     "name": "stdout",
     "output_type": "stream",
     "text": [
      "<class 'pandas.core.frame.DataFrame'>\n",
      "RangeIndex: 62 entries, 0 to 61\n",
      "Data columns (total 3 columns):\n",
      " #   Column    Non-Null Count  Dtype         \n",
      "---  ------    --------------  -----         \n",
      " 0   date      62 non-null     datetime64[ns]\n",
      " 1   group     62 non-null     object        \n",
      " 2   visitors  62 non-null     int64         \n",
      "dtypes: datetime64[ns](1), int64(1), object(1)\n",
      "memory usage: 1.6+ KB\n"
     ]
    }
   ],
   "source": [
    "#преобразование типов данных таблицы visitors\n",
    "visitors['date'] = visitors['date'].map(lambda x: dt.datetime.strptime(x, '%Y-%m-%d'))\n",
    "visitors.info()"
   ]
  },
  {
   "cell_type": "markdown",
   "metadata": {},
   "source": [
    "**Пропусков в таблице нет, типы данных приведены в нужный вид.**"
   ]
  },
  {
   "cell_type": "markdown",
   "metadata": {},
   "source": [
    "**Посмотрим есть ли у нас пользователи которые попали в две группы одновременно**"
   ]
  },
  {
   "cell_type": "code",
   "execution_count": 9,
   "metadata": {},
   "outputs": [
    {
     "data": {
      "text/plain": [
       "58"
      ]
     },
     "execution_count": 9,
     "metadata": {},
     "output_type": "execute_result"
    }
   ],
   "source": [
    "double_visitors = orders.groupby('visitorId', as_index=False)\\\n",
    ".agg({'group': 'nunique'}).sort_values(by='group', ascending=False)\n",
    "double_visitors\n",
    "double_visitors[double_visitors['group'] == 2]['visitorId'].count()"
   ]
  },
  {
   "cell_type": "markdown",
   "metadata": {},
   "source": [
    "58 пользователей находятся в двух группах сразу, это почти 5% от всего количества пользователей, это много "
   ]
  },
  {
   "cell_type": "markdown",
   "metadata": {},
   "source": [
    "### Визуализация графиков."
   ]
  },
  {
   "cell_type": "markdown",
   "metadata": {},
   "source": [
    "#### Подготовка кумулятивных данных"
   ]
  },
  {
   "cell_type": "code",
   "execution_count": 10,
   "metadata": {},
   "outputs": [
    {
     "data": {
      "text/html": [
       "<div>\n",
       "<style scoped>\n",
       "    .dataframe tbody tr th:only-of-type {\n",
       "        vertical-align: middle;\n",
       "    }\n",
       "\n",
       "    .dataframe tbody tr th {\n",
       "        vertical-align: top;\n",
       "    }\n",
       "\n",
       "    .dataframe thead th {\n",
       "        text-align: right;\n",
       "    }\n",
       "</style>\n",
       "<table border=\"1\" class=\"dataframe\">\n",
       "  <thead>\n",
       "    <tr style=\"text-align: right;\">\n",
       "      <th></th>\n",
       "      <th>date</th>\n",
       "      <th>group</th>\n",
       "      <th>orders</th>\n",
       "      <th>buyers</th>\n",
       "      <th>revenue</th>\n",
       "      <th>visitors</th>\n",
       "    </tr>\n",
       "  </thead>\n",
       "  <tbody>\n",
       "    <tr>\n",
       "      <th>0</th>\n",
       "      <td>2019-08-01</td>\n",
       "      <td>A</td>\n",
       "      <td>20</td>\n",
       "      <td>24</td>\n",
       "      <td>148579</td>\n",
       "      <td>719</td>\n",
       "    </tr>\n",
       "    <tr>\n",
       "      <th>1</th>\n",
       "      <td>2019-08-01</td>\n",
       "      <td>B</td>\n",
       "      <td>20</td>\n",
       "      <td>21</td>\n",
       "      <td>101217</td>\n",
       "      <td>713</td>\n",
       "    </tr>\n",
       "    <tr>\n",
       "      <th>2</th>\n",
       "      <td>2019-08-02</td>\n",
       "      <td>A</td>\n",
       "      <td>38</td>\n",
       "      <td>44</td>\n",
       "      <td>242401</td>\n",
       "      <td>1338</td>\n",
       "    </tr>\n",
       "    <tr>\n",
       "      <th>3</th>\n",
       "      <td>2019-08-02</td>\n",
       "      <td>B</td>\n",
       "      <td>43</td>\n",
       "      <td>45</td>\n",
       "      <td>266748</td>\n",
       "      <td>1294</td>\n",
       "    </tr>\n",
       "    <tr>\n",
       "      <th>4</th>\n",
       "      <td>2019-08-03</td>\n",
       "      <td>A</td>\n",
       "      <td>62</td>\n",
       "      <td>68</td>\n",
       "      <td>354874</td>\n",
       "      <td>1845</td>\n",
       "    </tr>\n",
       "  </tbody>\n",
       "</table>\n",
       "</div>"
      ],
      "text/plain": [
       "        date group  orders  buyers  revenue  visitors\n",
       "0 2019-08-01     A      20      24   148579       719\n",
       "1 2019-08-01     B      20      21   101217       713\n",
       "2 2019-08-02     A      38      44   242401      1338\n",
       "3 2019-08-02     B      43      45   266748      1294\n",
       "4 2019-08-03     A      62      68   354874      1845"
      ]
     },
     "execution_count": 10,
     "metadata": {},
     "output_type": "execute_result"
    }
   ],
   "source": [
    "#создадим массив уникальных пар значений дат и групп\n",
    "groupDates = orders[['date', 'group']].drop_duplicates()\n",
    "\n",
    "#собираем агрегированные данные по дням\n",
    "aggregatedOrders = groupDates\\\n",
    ".apply(lambda x: orders[np.logical_and(orders['date'] <= x['date'], orders['group'] == x['group'])]\\\n",
    "       .agg({'date': 'max', 'group':'max', 'visitorId': 'nunique', 'transactionId': 'nunique', 'revenue': 'sum'}), axis=1)\\\n",
    ".sort_values(by=['date','group'])\n",
    "\n",
    "\n",
    "aggregatedVisitors = groupDates\\\n",
    ".apply(lambda x: visitors[np.logical_and(visitors['date'] <= x['date'], visitors['group'] == x['group'])]\\\n",
    "                                     .agg({'date': 'max', 'group': 'max', 'visitors': 'sum'}), axis=1)\\\n",
    ".sort_values(by=['date', 'group'])\n",
    "\n",
    "# объединим два агрегированных фрейма в один\n",
    "\n",
    "cumulativeData = aggregatedOrders.merge(aggregatedVisitors, left_on=['date', 'group'], right_on=['date', 'group'])\n",
    "\n",
    "cumulativeData.columns = ['date', 'group', 'orders', 'buyers', 'revenue', 'visitors']\n",
    "\n",
    "cumulativeData.head()\n"
   ]
  },
  {
   "cell_type": "markdown",
   "metadata": {},
   "source": [
    "Получили фрейм с агрегированными кумулятивными данными, теперь приступаем к построению графиков."
   ]
  },
  {
   "cell_type": "markdown",
   "metadata": {},
   "source": [
    "#### График кумулятивной выручки"
   ]
  },
  {
   "cell_type": "code",
   "execution_count": 33,
   "metadata": {},
   "outputs": [
    {
     "data": {
      "image/png": "[encoded data removed]",
      "text/plain": [
       "<Figure size 720x360 with 1 Axes>"
      ]
     },
     "metadata": {
      "needs_background": "light"
     },
     "output_type": "display_data"
    }
   ],
   "source": [
    "#создадим датафреймы с кумулятивной выручкой и количеством заказов по дням для каждой группы\n",
    "cumulativeRevenue_A = cumulativeData[cumulativeData['group'] == 'A'][['date', 'orders', 'revenue']]\n",
    "\n",
    "cumulativeRevenue_B = cumulativeData[cumulativeData['group'] == 'B'][['date', 'orders', 'revenue']]\n",
    "\n",
    "#график кумулятивной выручки\n",
    "plt.figure(figsize=(10,5))\n",
    "\n",
    "plt.plot(cumulativeRevenue_A['date'], cumulativeRevenue_A['revenue'], label = 'A')\n",
    "\n",
    "plt.plot(cumulativeRevenue_B['date'], cumulativeRevenue_B['revenue'], label = 'B')\n",
    "\n",
    "plt.legend()\n",
    "\n",
    "plt.title('Кумулятивная выручка')\n",
    "plt.ylabel('Выручка')\n",
    "plt.xlabel('Дата')\n",
    "\n",
    "#plt.annotate('скачок', xy=('2019-08-17', 2800000), xytext=('2019-08-10', 3500000),\n",
    "            #arrowprops=dict(facecolor='g'))\n",
    "#plt.annotate('отрыв', xy=('2019-08-05', 800000), xytext=('2019-08-05', 2000000),\n",
    "            #arrowprops=dict(facecolor='g'))\n",
    "\n",
    "plt.show()"
   ]
  },
  {
   "cell_type": "markdown",
   "metadata": {},
   "source": [
    "По началу две группы коррелируют, потом группа В резко обгоняет группу А, предполагаю что в данных есть выбросы."
   ]
  },
  {
   "cell_type": "markdown",
   "metadata": {},
   "source": [
    "#### График кумулятивного среднего чека"
   ]
  },
  {
   "cell_type": "code",
   "execution_count": 34,
   "metadata": {},
   "outputs": [
    {
     "data": {
      "image/png": "[encoded data removed]",
      "text/plain": [
       "<Figure size 720x360 with 1 Axes>"
      ]
     },
     "metadata": {
      "needs_background": "light"
     },
     "output_type": "display_data"
    }
   ],
   "source": [
    "plt.figure(figsize=(10,5))\n",
    "plt.title('Кумулятивный средний чек')\n",
    "plt.ylabel('Средний чек')\n",
    "plt.xlabel('Дата')\n",
    "plt.plot(cumulativeRevenue_A['date'], cumulativeRevenue_A['revenue'] / cumulativeRevenue_A['orders'], label='A')\n",
    "plt.plot(cumulativeRevenue_B['date'], cumulativeRevenue_B['revenue'] / cumulativeRevenue_B['orders'], label='B')\n",
    "\n",
    "#plt.annotate('скачок', xy=('2019-08-18', 7500), xytext=('2019-08-13', 9000),  arrowprops=dict(arrowstyle='->'))\n",
    "\n",
    "plt.legend()\n",
    "plt.show()"
   ]
  },
  {
   "cell_type": "markdown",
   "metadata": {},
   "source": [
    "**Вывод:**"
   ]
  },
  {
   "cell_type": "markdown",
   "metadata": {},
   "source": [
    "Средний чек группы А в начале просел относительно группы В и начиная с середины стал равномерным, тогда как средний чек группы В изначально стремительно рос, а начиная с середины вырос очень сильно. Это может говорить о том что в выборке есть выбросы в виде очень дорогих заказов. Это надо проверить."
   ]
  },
  {
   "cell_type": "markdown",
   "metadata": {},
   "source": [
    "#### График относительного изменения  кумулятивного среднего чека группы В к группе А"
   ]
  },
  {
   "cell_type": "code",
   "execution_count": 35,
   "metadata": {
    "scrolled": true
   },
   "outputs": [
    {
     "data": {
      "image/png": "[encoded data removed]",
      "text/plain": [
       "<Figure size 720x360 with 1 Axes>"
      ]
     },
     "metadata": {
      "needs_background": "light"
     },
     "output_type": "display_data"
    }
   ],
   "source": [
    "cumulativeRevenue_merge = cumulativeRevenue_A.merge(\n",
    "    cumulativeRevenue_B, left_on='date', right_on='date', how='left', suffixes=['A', 'B'])\n",
    "\n",
    "plt.figure(figsize=(10,5))\n",
    "\n",
    "plt.plot(cumulativeRevenue_merge['date'],\\\n",
    "         (cumulativeRevenue_merge['revenueB'] / cumulativeRevenue_merge['ordersB']) / (cumulativeRevenue_merge['revenueA'] / cumulativeRevenue_merge['ordersA']) -1)\n",
    "\n",
    "plt.axhline(y=0, color='black', linestyle='--')\n",
    "plt.title('Относительное изменение кумулятивного среднего чека группы В к группе А')\n",
    "plt.xlabel('Дата')\n",
    "plt.ylabel('Относительное изменение')\n",
    "plt.show()"
   ]
  },
  {
   "cell_type": "markdown",
   "metadata": {},
   "source": [
    "**Вывод:**"
   ]
  },
  {
   "cell_type": "markdown",
   "metadata": {},
   "source": [
    "В нескольких местах график сильно \"скачет\", значит в выборке есть очень дорогие заказы, которые портят общую картину."
   ]
  },
  {
   "cell_type": "markdown",
   "metadata": {},
   "source": [
    "#### График кумулятивной конверсии"
   ]
  },
  {
   "cell_type": "code",
   "execution_count": 36,
   "metadata": {
    "scrolled": true
   },
   "outputs": [
    {
     "data": {
      "image/png": "[encoded data removed]",
      "text/plain": [
       "<Figure size 720x360 with 1 Axes>"
      ]
     },
     "metadata": {
      "needs_background": "light"
     },
     "output_type": "display_data"
    }
   ],
   "source": [
    "cumulativeData['conversion'] = cumulativeData['orders'] / cumulativeData['visitors']\n",
    "\n",
    "cumulativeConversion_A = cumulativeData[cumulativeData['group'] == 'A']\n",
    "\n",
    "cumulativeConversion_B = cumulativeData[cumulativeData['group'] == 'B']\n",
    "\n",
    "plt.figure(figsize=(10,5))\n",
    "plt.plot(cumulativeConversion_A['date'], cumulativeConversion_A['conversion'], label='A')\n",
    "plt.plot(cumulativeConversion_B['date'], cumulativeConversion_B['conversion'], label='B')\n",
    "plt.legend()\n",
    "plt.title('Кумулятивная конверсия')\n",
    "plt.xlabel('Дата')\n",
    "plt.ylabel('Конверсия')\n",
    "plt.show()"
   ]
  },
  {
   "cell_type": "markdown",
   "metadata": {},
   "source": [
    "**Вывод:**"
   ]
  },
  {
   "cell_type": "markdown",
   "metadata": {},
   "source": [
    "На графике кумулятивной конверсии видим раскорреляцию, в начале группы идут одинаково потом происходит резкое расхождение у группы В конверсия возрастает, а для группы А убывает. "
   ]
  },
  {
   "cell_type": "markdown",
   "metadata": {},
   "source": [
    "#### График относительной кумулятивной конверсии группы В к группе А"
   ]
  },
  {
   "cell_type": "code",
   "execution_count": 37,
   "metadata": {},
   "outputs": [
    {
     "data": {
      "image/png": "[encoded data removed]",
      "text/plain": [
       "<Figure size 720x360 with 1 Axes>"
      ]
     },
     "metadata": {
      "needs_background": "light"
     },
     "output_type": "display_data"
    }
   ],
   "source": [
    "cumulativeMergeConversion = pd.merge(cumulativeConversion_A[['date', 'conversion']],\\\n",
    "                                     cumulativeConversion_B[['date', 'conversion']],left_on='date',\\\n",
    "                                     right_on='date', how='left', suffixes=['A', 'B'])\n",
    "\n",
    "plt.figure(figsize=(10,5))\n",
    "plt.plot(cumulativeMergeConversion['date'],\\\n",
    "         cumulativeMergeConversion['conversionB'] / cumulativeMergeConversion['conversionA'] -1)\n",
    "\n",
    "plt.axhline(y=0, color='black', linestyle='--')\n",
    "plt.title('Относительная кумулятивная конверсия группы В к группе А')\n",
    "plt.xlabel('Дата')\n",
    "plt.ylabel('Относительное изменение конверсии')\n",
    "plt.show()"
   ]
  },
  {
   "cell_type": "markdown",
   "metadata": {},
   "source": [
    "**Вывод:** В целом отношение конверсии группы В к группе А считаю установленным. Выигрывает группа В."
   ]
  },
  {
   "cell_type": "markdown",
   "metadata": {},
   "source": [
    "#### Точечный график количества заказов по пользователям"
   ]
  },
  {
   "cell_type": "code",
   "execution_count": 38,
   "metadata": {
    "scrolled": true
   },
   "outputs": [
    {
     "data": {
      "text/html": [
       "<div>\n",
       "<style scoped>\n",
       "    .dataframe tbody tr th:only-of-type {\n",
       "        vertical-align: middle;\n",
       "    }\n",
       "\n",
       "    .dataframe tbody tr th {\n",
       "        vertical-align: top;\n",
       "    }\n",
       "\n",
       "    .dataframe thead th {\n",
       "        text-align: right;\n",
       "    }\n",
       "</style>\n",
       "<table border=\"1\" class=\"dataframe\">\n",
       "  <thead>\n",
       "    <tr style=\"text-align: right;\">\n",
       "      <th></th>\n",
       "      <th>visitorId</th>\n",
       "      <th>orders</th>\n",
       "    </tr>\n",
       "  </thead>\n",
       "  <tbody>\n",
       "    <tr>\n",
       "      <th>1023</th>\n",
       "      <td>4256040402</td>\n",
       "      <td>11</td>\n",
       "    </tr>\n",
       "    <tr>\n",
       "      <th>591</th>\n",
       "      <td>2458001652</td>\n",
       "      <td>11</td>\n",
       "    </tr>\n",
       "    <tr>\n",
       "      <th>569</th>\n",
       "      <td>2378935119</td>\n",
       "      <td>9</td>\n",
       "    </tr>\n",
       "    <tr>\n",
       "      <th>487</th>\n",
       "      <td>2038680547</td>\n",
       "      <td>8</td>\n",
       "    </tr>\n",
       "    <tr>\n",
       "      <th>44</th>\n",
       "      <td>199603092</td>\n",
       "      <td>5</td>\n",
       "    </tr>\n",
       "  </tbody>\n",
       "</table>\n",
       "</div>"
      ],
      "text/plain": [
       "       visitorId  orders\n",
       "1023  4256040402      11\n",
       "591   2458001652      11\n",
       "569   2378935119       9\n",
       "487   2038680547       8\n",
       "44     199603092       5"
      ]
     },
     "execution_count": 38,
     "metadata": {},
     "output_type": "execute_result"
    }
   ],
   "source": [
    "userOrders = (\n",
    "    orders.groupby('visitorId', as_index=False)\n",
    "    .agg({'transactionId': pd.Series.nunique}))\n",
    "\n",
    "userOrders.columns = ['visitorId', 'orders']\n",
    "\n",
    "userOrders.sort_values(by='orders', ascending=False).head()"
   ]
  },
  {
   "cell_type": "code",
   "execution_count": 39,
   "metadata": {
    "scrolled": false
   },
   "outputs": [
    {
     "data": {
      "image/png": "[encoded data removed]",
      "text/plain": [
       "<Figure size 720x360 with 1 Axes>"
      ]
     },
     "metadata": {
      "needs_background": "light"
     },
     "output_type": "display_data"
    }
   ],
   "source": [
    "x_values = pd.Series(range(0, len(userOrders)))\n",
    "\n",
    "plt.figure(figsize=(10,5))\n",
    "plt.scatter(x_values, userOrders['orders'])\n",
    "plt.title('Количество заказов по пользователям')\n",
    "plt.xlabel('Пользователи')\n",
    "plt.ylabel('Заказы')\n",
    "plt.show()"
   ]
  },
  {
   "cell_type": "code",
   "execution_count": 40,
   "metadata": {},
   "outputs": [
    {
     "data": {
      "text/plain": [
       "array([2., 4.])"
      ]
     },
     "execution_count": 40,
     "metadata": {},
     "output_type": "execute_result"
    }
   ],
   "source": [
    "#Найдем 95 и 99 перцентили для определения границ аномальных заказов.\n",
    "np.percentile(userOrders['orders'], [95, 99])"
   ]
  },
  {
   "cell_type": "markdown",
   "metadata": {},
   "source": [
    "**Вывод:** Всего 5% процентов пользователей заказывало более 2-ух раз и 1% пользователей заказывало более 4-ех раз. Все заказы выше 3-ех будем считать аномальными."
   ]
  },
  {
   "cell_type": "markdown",
   "metadata": {},
   "source": [
    "#### График стоимостей заказов"
   ]
  },
  {
   "cell_type": "code",
   "execution_count": 19,
   "metadata": {},
   "outputs": [
    {
     "data": {
      "image/png": "[encoded data removed]",
      "text/plain": [
       "<Figure size 720x360 with 1 Axes>"
      ]
     },
     "metadata": {
      "needs_background": "light"
     },
     "output_type": "display_data"
    }
   ],
   "source": [
    "x_values_revenue = pd.Series(range(0,len(orders['revenue'])))\n",
    "plt.figure(figsize=(10,5))\n",
    "plt.scatter(x_values_revenue, orders['revenue'])\n",
    "plt.title('График стоимостей заказов')\n",
    "plt.ylabel('Цена')\n",
    "plt.xlabel('Заказы')\n",
    "plt.show()"
   ]
  },
  {
   "cell_type": "code",
   "execution_count": 20,
   "metadata": {},
   "outputs": [
    {
     "data": {
      "text/plain": [
       "array([28000. , 58233.2])"
      ]
     },
     "execution_count": 20,
     "metadata": {},
     "output_type": "execute_result"
    }
   ],
   "source": [
    "np.percentile(orders['revenue'], [95, 99])"
   ]
  },
  {
   "cell_type": "markdown",
   "metadata": {},
   "source": [
    "Получается что не более 5% заказов дороже 28000 и не более 1% заказов дороже 58232. Все заказы свыше 58000 будем считать аномальными."
   ]
  },
  {
   "cell_type": "markdown",
   "metadata": {},
   "source": [
    "#### Подготовка \"сырых\" данных для расчета статистической значимости конверсии и среднего чека."
   ]
  },
  {
   "cell_type": "code",
   "execution_count": 41,
   "metadata": {},
   "outputs": [],
   "source": [
    "#найдем коверсию группы А\n",
    "visitorsDaily_A = visitors[visitors['group'] == 'A'][['date', 'visitors']]\n",
    "visitorsDaily_A.columns = ['date', 'visitorsPerDateA']\n",
    "\n",
    "visitorsDaily_A_cummulative = visitorsDaily_A.apply(\n",
    "    lambda x: visitorsDaily_A[visitorsDaily_A['date'] <= x['date']].agg(\n",
    "        {'date': 'max', 'visitorsPerDateA': 'sum'}\n",
    "    ),\n",
    "    axis=1,\n",
    ")\n",
    "\n",
    "visitorsDaily_A_cummulative.columns = ('date', 'visitors_cummulative_A')\n",
    "\n",
    "\n",
    "#аналогично найдем конверсию для группы В\n",
    "visitorsDaily_B = visitors[visitors['group'] == 'B'][['date', 'visitors']]\n",
    "visitorsDaily_B.columns = ['date', 'visitorsPerDateB']\n",
    "\n",
    "visitorsDaily_B_cummulative = visitorsDaily_B.apply(\n",
    "    lambda x: visitorsDaily_B[visitorsDaily_B['date'] <= x['date']].agg(\n",
    "        {'date': 'max', 'visitorsPerDateB': 'sum'}\n",
    "    ),\n",
    "    axis=1,\n",
    ")\n",
    "\n",
    "visitorsDaily_B_cummulative.columns = ['date', 'visitors_cummulative_B']\n"
   ]
  },
  {
   "cell_type": "markdown",
   "metadata": {},
   "source": [
    "**Найдем дневные значения выручки и заказов группы А (сырые данные)**"
   ]
  },
  {
   "cell_type": "code",
   "execution_count": 42,
   "metadata": {},
   "outputs": [],
   "source": [
    "orders_daily_users_A = (\n",
    "    orders[orders['group'] == 'A'][['date', 'transactionId', 'visitorId', 'revenue']]\n",
    "    .groupby('date', as_index=False)\n",
    "    .agg({'visitorId': pd.Series.nunique, 'revenue':'sum'})\n",
    ")\n",
    "\n",
    "orders_daily_users_A.columns = ['date', 'ordersPerDateA', 'revenuePerDateA']\n",
    "\n",
    "orders_cummulative_A = orders_daily_users_A.apply(\n",
    "    lambda x: orders_daily_users_A[orders_daily_users_A['date'] <= x['date']].agg(\n",
    "        {'date':'max', 'ordersPerDateA':'sum', 'revenuePerDateA':'sum'}\n",
    "    ),\n",
    "    axis=1,\n",
    ").sort_values(by=['date'])\n",
    "\n",
    "orders_cummulative_A.columns = ['date', 'orderscummulativeA', 'revenuecummulativeA']\n"
   ]
  },
  {
   "cell_type": "code",
   "execution_count": 43,
   "metadata": {},
   "outputs": [],
   "source": [
    "#аналогично для группы В\n",
    "orders_daily_users_B = (\n",
    "    orders[orders['group'] == 'B'][['date', 'transactionId', 'visitorId', 'revenue']]\n",
    "    .groupby('date', as_index=False)\n",
    "    .agg({'visitorId': pd.Series.nunique, 'revenue':'sum'})\n",
    ")\n",
    "\n",
    "orders_daily_users_B.columns = ['date', 'ordersPerDateB', 'revenuePerDateB']\n",
    "\n",
    "orders_cummulative_B = orders_daily_users_B.apply(\n",
    "    lambda x: orders_daily_users_B[orders_daily_users_B['date'] <= x['date']].agg(\n",
    "        {'date':'max', 'ordersPerDateB':'sum', 'revenuePerDateB':'sum'}\n",
    "    ),\n",
    "    axis=1,\n",
    ").sort_values(by=['date'])\n",
    "\n",
    "orders_cummulative_B.columns = ['date', 'orderscummulativeB', 'revenuecummulativeB']\n"
   ]
  },
  {
   "cell_type": "code",
   "execution_count": 44,
   "metadata": {},
   "outputs": [
    {
     "data": {
      "text/html": [
       "<div>\n",
       "<style scoped>\n",
       "    .dataframe tbody tr th:only-of-type {\n",
       "        vertical-align: middle;\n",
       "    }\n",
       "\n",
       "    .dataframe tbody tr th {\n",
       "        vertical-align: top;\n",
       "    }\n",
       "\n",
       "    .dataframe thead th {\n",
       "        text-align: right;\n",
       "    }\n",
       "</style>\n",
       "<table border=\"1\" class=\"dataframe\">\n",
       "  <thead>\n",
       "    <tr style=\"text-align: right;\">\n",
       "      <th></th>\n",
       "      <th>date</th>\n",
       "      <th>ordersPerDateA</th>\n",
       "      <th>revenuePerDateA</th>\n",
       "      <th>ordersPerDateB</th>\n",
       "      <th>revenuePerDateB</th>\n",
       "      <th>orderscummulativeA</th>\n",
       "      <th>revenuecummulativeA</th>\n",
       "      <th>orderscummulativeB</th>\n",
       "      <th>revenuecummulativeB</th>\n",
       "      <th>visitorsPerDateA</th>\n",
       "      <th>visitorsPerDateB</th>\n",
       "      <th>visitors_cummulative_A</th>\n",
       "      <th>visitors_cummulative_B</th>\n",
       "    </tr>\n",
       "  </thead>\n",
       "  <tbody>\n",
       "    <tr>\n",
       "      <th>0</th>\n",
       "      <td>2019-08-01</td>\n",
       "      <td>20</td>\n",
       "      <td>148579</td>\n",
       "      <td>20</td>\n",
       "      <td>101217</td>\n",
       "      <td>20</td>\n",
       "      <td>148579</td>\n",
       "      <td>20</td>\n",
       "      <td>101217</td>\n",
       "      <td>719</td>\n",
       "      <td>713</td>\n",
       "      <td>719</td>\n",
       "      <td>713</td>\n",
       "    </tr>\n",
       "    <tr>\n",
       "      <th>1</th>\n",
       "      <td>2019-08-02</td>\n",
       "      <td>19</td>\n",
       "      <td>93822</td>\n",
       "      <td>23</td>\n",
       "      <td>165531</td>\n",
       "      <td>39</td>\n",
       "      <td>242401</td>\n",
       "      <td>43</td>\n",
       "      <td>266748</td>\n",
       "      <td>619</td>\n",
       "      <td>581</td>\n",
       "      <td>1338</td>\n",
       "      <td>1294</td>\n",
       "    </tr>\n",
       "    <tr>\n",
       "      <th>2</th>\n",
       "      <td>2019-08-03</td>\n",
       "      <td>24</td>\n",
       "      <td>112473</td>\n",
       "      <td>16</td>\n",
       "      <td>114248</td>\n",
       "      <td>63</td>\n",
       "      <td>354874</td>\n",
       "      <td>59</td>\n",
       "      <td>380996</td>\n",
       "      <td>507</td>\n",
       "      <td>509</td>\n",
       "      <td>1845</td>\n",
       "      <td>1803</td>\n",
       "    </tr>\n",
       "    <tr>\n",
       "      <th>3</th>\n",
       "      <td>2019-08-04</td>\n",
       "      <td>15</td>\n",
       "      <td>70825</td>\n",
       "      <td>16</td>\n",
       "      <td>108571</td>\n",
       "      <td>78</td>\n",
       "      <td>425699</td>\n",
       "      <td>75</td>\n",
       "      <td>489567</td>\n",
       "      <td>717</td>\n",
       "      <td>770</td>\n",
       "      <td>2562</td>\n",
       "      <td>2573</td>\n",
       "    </tr>\n",
       "    <tr>\n",
       "      <th>4</th>\n",
       "      <td>2019-08-05</td>\n",
       "      <td>25</td>\n",
       "      <td>124218</td>\n",
       "      <td>23</td>\n",
       "      <td>92428</td>\n",
       "      <td>103</td>\n",
       "      <td>549917</td>\n",
       "      <td>98</td>\n",
       "      <td>581995</td>\n",
       "      <td>756</td>\n",
       "      <td>707</td>\n",
       "      <td>3318</td>\n",
       "      <td>3280</td>\n",
       "    </tr>\n",
       "  </tbody>\n",
       "</table>\n",
       "</div>"
      ],
      "text/plain": [
       "        date  ordersPerDateA  revenuePerDateA  ordersPerDateB  \\\n",
       "0 2019-08-01              20           148579              20   \n",
       "1 2019-08-02              19            93822              23   \n",
       "2 2019-08-03              24           112473              16   \n",
       "3 2019-08-04              15            70825              16   \n",
       "4 2019-08-05              25           124218              23   \n",
       "\n",
       "   revenuePerDateB  orderscummulativeA  revenuecummulativeA  \\\n",
       "0           101217                  20               148579   \n",
       "1           165531                  39               242401   \n",
       "2           114248                  63               354874   \n",
       "3           108571                  78               425699   \n",
       "4            92428                 103               549917   \n",
       "\n",
       "   orderscummulativeB  revenuecummulativeB  visitorsPerDateA  \\\n",
       "0                  20               101217               719   \n",
       "1                  43               266748               619   \n",
       "2                  59               380996               507   \n",
       "3                  75               489567               717   \n",
       "4                  98               581995               756   \n",
       "\n",
       "   visitorsPerDateB  visitors_cummulative_A  visitors_cummulative_B  \n",
       "0               713                     719                     713  \n",
       "1               581                    1338                    1294  \n",
       "2               509                    1845                    1803  \n",
       "3               770                    2562                    2573  \n",
       "4               707                    3318                    3280  "
      ]
     },
     "execution_count": 44,
     "metadata": {},
     "output_type": "execute_result"
    }
   ],
   "source": [
    "data_merge = (\n",
    "    orders_daily_users_A.merge(\n",
    "        orders_daily_users_B, left_on='date', right_on='date', how='left'\n",
    "    )\n",
    "    .merge(orders_cummulative_A, left_on='date', right_on='date', how='left')\n",
    "    .merge(orders_cummulative_B, left_on='date', right_on='date', how='left')\n",
    "    .merge(visitorsDaily_A, left_on='date', right_on='date', how='left')\n",
    "    .merge(visitorsDaily_B, left_on='date', right_on='date', how='left')\n",
    "    .merge(visitorsDaily_A_cummulative, left_on='date', right_on='date', how='left')\n",
    "    .merge(visitorsDaily_B_cummulative, left_on='date', right_on='date', how='left')\n",
    ")\n",
    "\n",
    "data_merge.head()"
   ]
  },
  {
   "cell_type": "markdown",
   "metadata": {},
   "source": [
    "Получили датафрейм с сырыми данными"
   ]
  },
  {
   "cell_type": "code",
   "execution_count": 45,
   "metadata": {
    "scrolled": true
   },
   "outputs": [],
   "source": [
    "#создадим таблицы с количеством покупок пользователей\n",
    "orderByusers_A = (\n",
    "    orders[orders['group'] == 'A']\n",
    "    .groupby('visitorId', as_index=False)\n",
    "    .agg({'transactionId': pd.Series.nunique})\n",
    ")\n",
    "\n",
    "orderByusers_A.columns = ['visitorId', 'orders']\n",
    "\n",
    "\n",
    "orderByusers_B = (\n",
    "    orders[orders['group'] == 'B']\n",
    "    .groupby('visitorId', as_index=False)\n",
    "    .agg({'transactionId': pd.Series.nunique})\n",
    ")\n",
    "\n",
    "orderByusers_B.columns = ['visitorId', 'orders']"
   ]
  },
  {
   "cell_type": "markdown",
   "metadata": {},
   "source": [
    "#### Статистическая значимость различий в конверсии между группами по «сырым» данным"
   ]
  },
  {
   "cell_type": "markdown",
   "metadata": {},
   "source": [
    "Сформулируем гипотезу:\n",
    "\n",
    "- H<sub>0</sub>(нулевая гипотеза) - Разница между двумя группами в конверсии статистически не значима\n",
    "\n",
    "- H<sub>1</sub>(альтернативная гипотеза) - Разница между двумя группами в конверсии статистически значима"
   ]
  },
  {
   "cell_type": "code",
   "execution_count": 46,
   "metadata": {},
   "outputs": [
    {
     "name": "stdout",
     "output_type": "stream",
     "text": [
      "p-value: 0.017\n",
      "Относительный выигрыш группы В = 13.808%\n"
     ]
    }
   ],
   "source": [
    "sampleA = pd.concat(\n",
    "    [\n",
    "        orderByusers_A['orders'],\n",
    "        pd.Series(\n",
    "            0,\n",
    "            index=np.arange(\n",
    "                data_merge['visitorsPerDateA'].sum() - len(orderByusers_A['orders'])\n",
    "            ),\n",
    "            name='orders',\n",
    "        ),\n",
    "    ],\n",
    "    axis=0,\n",
    ")\n",
    "\n",
    "sampleB = pd.concat(\n",
    "    [\n",
    "        orderByusers_B['orders'],\n",
    "        pd.Series(\n",
    "            0,\n",
    "            index=np.arange(\n",
    "                data_merge['visitorsPerDateB'].sum() - len(orderByusers_B['orders'])\n",
    "            ),\n",
    "            name='orders',\n",
    "        ),\n",
    "    ],\n",
    "    axis=0,\n",
    ")\n",
    "\n",
    "print(\"p-value: {0:.3f}\".format(stats.mannwhitneyu(sampleA, sampleB, alternative = 'two-sided')[1]))\n",
    "\n",
    "print(\"Относительный выигрыш группы В = {0:.3%}\".format(sampleB.mean() / sampleA.mean() - 1))\n",
    " \n"
   ]
  },
  {
   "cell_type": "markdown",
   "metadata": {},
   "source": [
    "**Вывод:**\n",
    "\n",
    "p-value больше 0.05, а значит нулевую гипотезу о статистических различиях в конверсии между группами не отвергаем.\n",
    "Расхождение между группами  в 13.8%"
   ]
  },
  {
   "cell_type": "markdown",
   "metadata": {},
   "source": [
    "#### Статистическая значимость в среднем чеке по \"сырым\" данным"
   ]
  },
  {
   "cell_type": "markdown",
   "metadata": {},
   "source": [
    "Сформулируем гипотезу:\n",
    "\n",
    "- H<sub>0</sub>(нулевая гипотеза) - Различия между группами в среднем чеке статистически не значимы.\n",
    "\n",
    "- H<sub>1</sub>(альтернативная гипотеза) - Различия между группами в среднем чеке статистически значимы. "
   ]
  },
  {
   "cell_type": "code",
   "execution_count": 27,
   "metadata": {
    "scrolled": true
   },
   "outputs": [
    {
     "name": "stdout",
     "output_type": "stream",
     "text": [
      "p-value = 0.729\n",
      "0.259\n"
     ]
    }
   ],
   "source": [
    "print('p-value = {0:.3f}'.format(stats.mannwhitneyu(\n",
    "    orders[orders['group'] == 'A']['revenue'],\n",
    "    orders[orders['group'] == 'B']['revenue'], alternative='two-sided')[1]))\n",
    "    \n",
    "\n",
    "print('{0:.3f}'.format(\n",
    "    orders[orders['group'] == 'B']['revenue'].mean() / orders[orders['group'] == 'A']['revenue'].mean() -1))"
   ]
  },
  {
   "cell_type": "markdown",
   "metadata": {},
   "source": [
    "p-value = 0.729 Нулевую гипотезу о статических различиях в среднем чеке между группами не отвергаем.\n",
    "\n",
    "Средний чек группы В значительно выше среднего чека группы А расхождение в 26%"
   ]
  },
  {
   "cell_type": "markdown",
   "metadata": {},
   "source": [
    "#### Статистическая значимость различий в конверсии между группами по \"очищенным\" данным. "
   ]
  },
  {
   "cell_type": "markdown",
   "metadata": {},
   "source": [
    "Сформулируем гипотезу:\n",
    "\n",
    "- H<sub>0</sub>(нулевая гипотеза) - Разница между двумя группами в конверсии статистически не значима (по очищенным данным)\n",
    "\n",
    "- H<sub>1</sub>(альтернативная гипотеза) - Разница между двумя группами в конверсии статистически значима (по очищенным данным)"
   ]
  },
  {
   "cell_type": "code",
   "execution_count": 47,
   "metadata": {},
   "outputs": [
    {
     "data": {
      "text/plain": [
       "(20,)"
      ]
     },
     "execution_count": 47,
     "metadata": {},
     "output_type": "execute_result"
    }
   ],
   "source": [
    "usersManyOrders = pd.concat(\n",
    "    [\n",
    "        orderByusers_A[orderByusers_A['orders'] > 3]['visitorId'],\n",
    "        orderByusers_B[orderByusers_B['orders'] > 3]['visitorId'],\n",
    "    ],\n",
    "    axis=0\n",
    ")\n",
    "\n",
    "expensiveOrders = orders[orders['revenue'] > 58234]['visitorId']\n",
    "\n",
    "ABnormalusers = pd.concat([usersManyOrders, expensiveOrders], axis=0).drop_duplicates().sort_values()\n",
    "\n",
    "ABnormalusers.shape"
   ]
  },
  {
   "cell_type": "markdown",
   "metadata": {},
   "source": [
    "У нас получилось всего 20 пользователей с аномальными значениями, уберем их."
   ]
  },
  {
   "cell_type": "code",
   "execution_count": 48,
   "metadata": {},
   "outputs": [],
   "source": [
    "filteredsample_A = pd.concat(\n",
    "    [\n",
    "        orderByusers_A[\n",
    "            np.logical_not(orderByusers_A['visitorId'].isin(ABnormalusers))\n",
    "        ]['orders'],\n",
    "        pd.Series(0,\n",
    "                 index=np.arange(\n",
    "                     data_merge['visitorsPerDateA'].sum() - len(orderByusers_A['orders']),\n",
    "                 ),\n",
    "                  name='orders',\n",
    "                 ),\n",
    "    ],\n",
    "    axis=0,\n",
    ")\n",
    "\n",
    "filteredsample_B = pd.concat(\n",
    "    [\n",
    "        orderByusers_B[\n",
    "            np.logical_not(orderByusers_B['visitorId'].isin(ABnormalusers))\n",
    "        ]['orders'],\n",
    "        pd.Series(0,\n",
    "                 index=np.arange(\n",
    "                     data_merge['visitorsPerDateB'].sum() - len(orderByusers_B['orders']),\n",
    "                 ),\n",
    "                  name='orders',\n",
    "                 ),\n",
    "    ],\n",
    "    axis=0,\n",
    ")"
   ]
  },
  {
   "cell_type": "code",
   "execution_count": 49,
   "metadata": {},
   "outputs": [
    {
     "name": "stdout",
     "output_type": "stream",
     "text": [
      "p-value = 0.014\n",
      "0.151\n"
     ]
    }
   ],
   "source": [
    "print('p-value = {0:.3f}'.format(stats.mannwhitneyu(filteredsample_A,filteredsample_B, alternative='two-sided')[1]))\n",
    "print('{0:.3f}'.format(filteredsample_B.mean() / filteredsample_A.mean() -1))"
   ]
  },
  {
   "cell_type": "markdown",
   "metadata": {},
   "source": [
    "По \"очищенным\" данным видно что p-value снизилось до 0.014, но так как p-value больше 0.05, то нулевую гипотезу о статистических различиях в конверсиии не отвергаем, расхождение увеличилось до 15%"
   ]
  },
  {
   "cell_type": "markdown",
   "metadata": {},
   "source": [
    "#### Статистическая значимость различий в среднем чеке заказа между группами по «очищенным» данным."
   ]
  },
  {
   "cell_type": "markdown",
   "metadata": {},
   "source": [
    "Сформулируем гипотезу:\n",
    "\n",
    "- H<sub>0</sub>(нулевая гипотеза) - Различия между группами в среднем чеке статистически не значимы.(по очищенным данным)\n",
    "\n",
    "- H<sub>1</sub>(альтернативная гипотеза) - Различия между группами в среднем чеке статистически значимы.(по очищенным данным) "
   ]
  },
  {
   "cell_type": "code",
   "execution_count": 50,
   "metadata": {},
   "outputs": [
    {
     "name": "stdout",
     "output_type": "stream",
     "text": [
      "p-value = 0.959\n",
      "-0.014\n"
     ]
    }
   ],
   "source": [
    "print(\n",
    "    'p-value = {0:.3f}'.format(\n",
    "        stats.mannwhitneyu(\n",
    "            orders[\n",
    "                np.logical_and(\n",
    "                    orders['group'] == 'A',\n",
    "                    np.logical_not(orders['visitorId'].isin(ABnormalusers)),\n",
    "                )\n",
    "            ]['revenue'],\n",
    "            orders[\n",
    "                np.logical_and(\n",
    "                    orders['group'] == 'B',\n",
    "                    np.logical_not(orders['visitorId'].isin(ABnormalusers)),\n",
    "                )\n",
    "            ]['revenue'],\n",
    "         alternative = 'two-sided')[1]\n",
    "    )\n",
    ")\n",
    "\n",
    "print(\n",
    "    \"{0:.3f}\".format(\n",
    "        orders[\n",
    "            np.logical_and(\n",
    "                orders['group'] == 'B',\n",
    "                np.logical_not(orders['visitorId'].isin(ABnormalusers)),\n",
    "            )\n",
    "        ]['revenue'].mean()\n",
    "        / orders[\n",
    "            np.logical_and(\n",
    "                orders['group'] == 'A',\n",
    "                np.logical_not(orders['visitorId'].isin(ABnormalusers)),\n",
    "            )\n",
    "        ]['revenue'].mean()\n",
    "        - 1\n",
    "    )\n",
    ") \n"
   ]
  },
  {
   "cell_type": "markdown",
   "metadata": {},
   "source": [
    "p-value среднего чека составляет по \"очищенным\" данным составляет 0.959 когда по сырым p-value составляет 0.729. \n",
    "\n",
    "Разница по сегментам уменьшилась до 1.4%"
   ]
  },
  {
   "cell_type": "markdown",
   "metadata": {},
   "source": [
    "### Вывод"
   ]
  },
  {
   "cell_type": "markdown",
   "metadata": {},
   "source": [
    "1. **Приоритезация гипотез:**\n",
    "\n",
    "Расчитав параметр ICE мы видим что гипотезы:\n",
    "\n",
    "- **Запустить акцию, дающую скидку на товар в день рождения**\n",
    "- **Добавить два новых канала привлечения трафика, что позволит привлекать на 30% больше пользователей**\n",
    "- **Добавить форму подписки на все основные страницы, чтобы собрать базу клиентов для email-рассылок**\n",
    "\n",
    "находятся в приоритете\n",
    "\n",
    "\n",
    "\n",
    "1.1 Применив фреймворк RICE, мы видим что гипотезы:\n",
    "\n",
    "- **Добавить форму подписки на все основные страницы, чтобы собрать базу клиентов для email-рассылок**\n",
    "\n",
    "- **Добавить блоки рекомендаций товаров на сайт интернет магазина, чтобы повысить конверсию и средний чек заказа**\n",
    "\n",
    "- **Добавить два новых канала привлечения трафика, что позволит привлекать на 30% больше пользователей**\n",
    "\n",
    "находятся в приритете. Однако на первом месте гипотеза Добавить форму подписки на все основные страницы, чтобы собрать базу клиентов для email-рассылок.\n",
    "\n",
    "Вывод по приоритезации гипотез:\n",
    "\n",
    "Применив два фреймворка ICE и RICE мы увидели расхождение в приоритетах гипотез. Это произошло из-за добавления параметра Reach в фреймворке RICE. И в ICE и в RICE в топ-3 попадают гипотезы:\n",
    "\n",
    "- **Добавить форму подписки на все основные страницы, чтобы собрать базу клиентов для email-рассылок**\n",
    "- **Добавить два новых канала привлечения трафика, что позволит привлекать на 30% больше пользователей**\n",
    "\n",
    "Рекомендую начать анализ этих гипотез в первую очередь.\n",
    "\n",
    "При ознакомлении с датафреймом orders заметил что 58 пользователей находятся в двух группах сразу, это почти 5% от всего количества пользователей.\n",
    "\n",
    "\n",
    "**2. Итоги А/Б тестирования:**\n",
    "\n",
    "**2.1   Статистическая значимость различий в конверсии между группами по \"сырым\" и \"очищенным\" данным.**\n",
    "\n",
    "- H<sub>0</sub>(нулевая гипотеза) - Разница между двумя группами в конверсии статистически не значима\n",
    "\n",
    "- H<sub>1</sub>(альтернативная гипотеза) - Разница между двумя группами в конверсии статистически значима\n",
    "\n",
    "По \"сырым\": \n",
    "p-value: 0.017\n",
    "Относительный выигрыш группы В = 13.808%\n",
    "\n",
    "Так как p-value больше 0.05, Нулевую гипотезу не отвергаем ,но расхождение между группами составляет в 13.8%\n",
    "\n",
    "По \"очищенным\":\n",
    "- H<sub>0</sub>(нулевая гипотеза) - Разница между двумя группами в конверсии статистически не значима (по очищенным данным)\n",
    "\n",
    "- H<sub>1</sub>(альтернативная гипотеза) - Разница между двумя группами в конверсии статистически значима (по очищенным данным)\n",
    "\n",
    "p-value = 0.014, так как p-value больше 0.05, то нулевую гипотезу не отвергаем, но расхождение между группами в среднем чеке увеличилось до 15%\n",
    "\n",
    "**Заключение:** \n",
    "Между \"сырыми\" данными и \"очищенными\" в конверсии мы видим статистически значимые различия:\n",
    "в \"сырых\" данных p-value =  0.017, а в \"очищеннных\" p-value = 0.014    \n",
    "Расхождение в разнице между сегментами составляет по \"сырым\" данным 13.8% , по \"очищенным\" 15%\n",
    "Считаю что расхождения более 10% статистически значимыми. Расхождения в сторону группы В\n",
    "\n",
    "**2.2 Статистическая значимость в среднем чеке по \"сырым\" и \"очищенным\" данным:**\n",
    "\n",
    "По \"сырым\":\n",
    "- H<sub>0</sub>(нулевая гипотеза) - Различия между группами в среднем чеке статистически не значимы.\n",
    "\n",
    "- H<sub>1</sub>(альтернативная гипотеза) - Различия между группами в среднем чеке статистически значимы. \n",
    "\n",
    "p-value = 0.729 \n",
    "\n",
    "Нулевую гипотезу не отвергаем, но средний чек группы В значительно выше среднего чека группы А расхождение в 26%\n",
    "\n",
    "По \"очищенным:\n",
    "\n",
    "- H<sub>0</sub>(нулевая гипотеза) - Различия между группами в среднем чеке статистически не значимы.\n",
    "\n",
    "- H<sub>1</sub>(альтернативная гипотеза) - Различия между группами в среднем чеке статистически значимы. \n",
    "\n",
    "\n",
    "p-value среднего чека составляет по \"очищенным\" данным составляет 0.959. Разница по сегментам уменьшилась до 1.4%.\n",
    "\n",
    "Скорее всего разница уменьшилась из-за того что мы убрали аномальные заказы.\n",
    "\n",
    "**Заключение:** \n",
    "В исследовании статистически значимых расхождениях в среднем чеке в \"сырых\" и \"очищенных\" данных мы видим что расхождения есть, но не большие:\n",
    "в \"сырых\" p-value = 0.729, а в \"очищенных\" p-value = 0.959.\n",
    "\n",
    "Зато есть сильное расхождение в разнице между сегментами в \"сырых\" данных в 26%, а в \"очищенных\" расхождения всего 1.4%.\n",
    "Это произошло из-за того что мы убрали аномально дорогие заказы.\n",
    "\n",
    "**2.3 Анализ кумулятивных графиков**\n",
    "\n",
    "На графике различия конверсии между группами видно группа B сильно выбилась вперед. Так же это видно на графике различия среднего чека группа B выбивается вперед и есть тенденция к улучшению.\n",
    "\n",
    "<b>Исходя из всех этих фактов считаю, что тест нужно остановить и признать его успешным.\n",
    "\n",
    "Признать что группа B победила. Так как средний чек не упал а конверсия увеличилась то победа группы может дать продукту новых пользователей, которые увеличат число заказов.</b>\n"
   ]
  }
 ],
 "metadata": {
  "ExecuteTimeLog": [
   {
    "duration": 690,
    "start_time": "2022-01-27T08:22:28.892Z"
   },
   {
    "duration": 2,
    "start_time": "2022-01-27T08:22:35.421Z"
   },
   {
    "duration": 33,
    "start_time": "2022-01-27T08:30:23.249Z"
   },
   {
    "duration": 333,
    "start_time": "2022-01-27T08:35:05.137Z"
   },
   {
    "duration": 19,
    "start_time": "2022-01-27T08:35:24.918Z"
   },
   {
    "duration": 16,
    "start_time": "2022-01-27T08:35:28.026Z"
   },
   {
    "duration": 12,
    "start_time": "2022-01-27T08:36:03.916Z"
   },
   {
    "duration": 656,
    "start_time": "2022-01-27T08:42:18.998Z"
   },
   {
    "duration": 19,
    "start_time": "2022-01-27T08:42:19.656Z"
   },
   {
    "duration": 20,
    "start_time": "2022-01-27T08:42:19.678Z"
   },
   {
    "duration": 13,
    "start_time": "2022-01-27T08:51:44.263Z"
   },
   {
    "duration": 104,
    "start_time": "2022-01-27T09:23:22.021Z"
   },
   {
    "duration": 1812,
    "start_time": "2022-01-27T09:34:54.082Z"
   },
   {
    "duration": 45,
    "start_time": "2022-01-27T09:35:22.413Z"
   },
   {
    "duration": 9,
    "start_time": "2022-01-27T09:35:40.541Z"
   },
   {
    "duration": 248,
    "start_time": "2022-01-27T09:38:40.673Z"
   },
   {
    "duration": 261,
    "start_time": "2022-01-27T09:39:44.848Z"
   },
   {
    "duration": 251,
    "start_time": "2022-01-27T09:40:29.709Z"
   },
   {
    "duration": 251,
    "start_time": "2022-01-27T09:41:14.517Z"
   },
   {
    "duration": 248,
    "start_time": "2022-01-27T09:41:35.948Z"
   },
   {
    "duration": 297,
    "start_time": "2022-01-27T09:41:44.488Z"
   },
   {
    "duration": 641,
    "start_time": "2022-01-27T09:41:57.669Z"
   },
   {
    "duration": 19,
    "start_time": "2022-01-27T09:41:58.313Z"
   },
   {
    "duration": 23,
    "start_time": "2022-01-27T09:41:58.335Z"
   },
   {
    "duration": 28,
    "start_time": "2022-01-27T09:41:58.360Z"
   },
   {
    "duration": 69,
    "start_time": "2022-01-27T09:41:58.390Z"
   },
   {
    "duration": 18,
    "start_time": "2022-01-27T09:41:58.460Z"
   },
   {
    "duration": 338,
    "start_time": "2022-01-27T09:41:58.480Z"
   },
   {
    "duration": 14,
    "start_time": "2022-01-27T09:45:20.069Z"
   },
   {
    "duration": 13,
    "start_time": "2022-01-27T09:47:06.377Z"
   },
   {
    "duration": 46,
    "start_time": "2022-01-27T09:47:32.907Z"
   },
   {
    "duration": 635,
    "start_time": "2022-01-27T09:47:42.939Z"
   },
   {
    "duration": 21,
    "start_time": "2022-01-27T09:47:43.576Z"
   },
   {
    "duration": 26,
    "start_time": "2022-01-27T09:47:43.600Z"
   },
   {
    "duration": 15,
    "start_time": "2022-01-27T09:47:43.628Z"
   },
   {
    "duration": 45,
    "start_time": "2022-01-27T09:47:43.645Z"
   },
   {
    "duration": 13,
    "start_time": "2022-01-27T09:47:43.693Z"
   },
   {
    "duration": 17,
    "start_time": "2022-01-27T09:51:27.027Z"
   },
   {
    "duration": 21,
    "start_time": "2022-01-27T09:51:37.105Z"
   },
   {
    "duration": 10,
    "start_time": "2022-01-27T09:53:12.104Z"
   },
   {
    "duration": 9,
    "start_time": "2022-01-27T09:54:23.055Z"
   },
   {
    "duration": 115,
    "start_time": "2022-01-27T11:51:22.581Z"
   },
   {
    "duration": 1188,
    "start_time": "2022-01-27T11:51:33.215Z"
   },
   {
    "duration": 1137,
    "start_time": "2022-01-27T11:53:02.916Z"
   },
   {
    "duration": 712,
    "start_time": "2022-01-27T11:53:45.895Z"
   },
   {
    "duration": 20,
    "start_time": "2022-01-27T11:53:46.609Z"
   },
   {
    "duration": 32,
    "start_time": "2022-01-27T11:53:46.631Z"
   },
   {
    "duration": 13,
    "start_time": "2022-01-27T11:53:46.665Z"
   },
   {
    "duration": 53,
    "start_time": "2022-01-27T11:53:46.680Z"
   },
   {
    "duration": 16,
    "start_time": "2022-01-27T11:53:46.736Z"
   },
   {
    "duration": 33,
    "start_time": "2022-01-27T11:53:46.753Z"
   },
   {
    "duration": 44,
    "start_time": "2022-01-27T11:53:46.789Z"
   },
   {
    "duration": 1240,
    "start_time": "2022-01-27T11:54:21.711Z"
   },
   {
    "duration": 684,
    "start_time": "2022-01-27T11:54:54.297Z"
   },
   {
    "duration": 21,
    "start_time": "2022-01-27T11:54:54.983Z"
   },
   {
    "duration": 27,
    "start_time": "2022-01-27T11:54:55.006Z"
   },
   {
    "duration": 14,
    "start_time": "2022-01-27T11:54:55.035Z"
   },
   {
    "duration": 47,
    "start_time": "2022-01-27T11:54:55.051Z"
   },
   {
    "duration": 19,
    "start_time": "2022-01-27T11:54:55.100Z"
   },
   {
    "duration": 25,
    "start_time": "2022-01-27T11:54:55.121Z"
   },
   {
    "duration": 13,
    "start_time": "2022-01-27T11:54:55.149Z"
   },
   {
    "duration": 8,
    "start_time": "2022-01-27T11:59:14.115Z"
   },
   {
    "duration": 7,
    "start_time": "2022-01-27T12:01:36.680Z"
   },
   {
    "duration": 7,
    "start_time": "2022-01-27T12:02:32.561Z"
   },
   {
    "duration": 890,
    "start_time": "2022-01-27T12:11:50.497Z"
   },
   {
    "duration": 3,
    "start_time": "2022-01-27T12:12:09.331Z"
   },
   {
    "duration": 234,
    "start_time": "2022-01-27T12:12:13.224Z"
   },
   {
    "duration": 15,
    "start_time": "2022-01-27T12:12:21.927Z"
   },
   {
    "duration": 367,
    "start_time": "2022-01-27T12:17:48.315Z"
   },
   {
    "duration": 272,
    "start_time": "2022-01-27T12:18:06.266Z"
   },
   {
    "duration": 470,
    "start_time": "2022-01-27T12:18:16.937Z"
   },
   {
    "duration": 12,
    "start_time": "2022-01-27T12:18:18.585Z"
   },
   {
    "duration": 85,
    "start_time": "2022-01-27T12:19:28.336Z"
   },
   {
    "duration": 377,
    "start_time": "2022-01-27T16:20:23.863Z"
   },
   {
    "duration": 372,
    "start_time": "2022-01-27T16:21:56.568Z"
   },
   {
    "duration": 10,
    "start_time": "2022-01-27T16:24:05.570Z"
   },
   {
    "duration": 224,
    "start_time": "2022-01-27T18:43:32.556Z"
   },
   {
    "duration": 207,
    "start_time": "2022-01-27T19:01:08.424Z"
   },
   {
    "duration": 256,
    "start_time": "2022-01-27T19:03:43.941Z"
   },
   {
    "duration": 563,
    "start_time": "2022-01-27T19:04:16.876Z"
   },
   {
    "duration": 226,
    "start_time": "2022-01-27T19:06:04.925Z"
   },
   {
    "duration": 243,
    "start_time": "2022-01-27T19:07:02.675Z"
   },
   {
    "duration": 247,
    "start_time": "2022-01-27T19:08:59.303Z"
   },
   {
    "duration": 231,
    "start_time": "2022-01-27T19:09:05.556Z"
   },
   {
    "duration": 426,
    "start_time": "2022-01-27T19:09:34.047Z"
   },
   {
    "duration": 385,
    "start_time": "2022-01-27T19:09:40.453Z"
   },
   {
    "duration": 212,
    "start_time": "2022-01-27T19:43:15.179Z"
   },
   {
    "duration": 365,
    "start_time": "2022-01-27T19:43:46.979Z"
   },
   {
    "duration": 403,
    "start_time": "2022-01-27T19:44:32.093Z"
   },
   {
    "duration": 407,
    "start_time": "2022-01-27T19:45:11.106Z"
   },
   {
    "duration": 258,
    "start_time": "2022-01-27T21:11:01.420Z"
   },
   {
    "duration": 263,
    "start_time": "2022-01-27T21:11:11.720Z"
   },
   {
    "duration": 103,
    "start_time": "2022-01-27T21:27:10.008Z"
   },
   {
    "duration": 6,
    "start_time": "2022-01-27T21:27:23.987Z"
   },
   {
    "duration": 11,
    "start_time": "2022-01-27T21:27:29.789Z"
   },
   {
    "duration": 201,
    "start_time": "2022-01-27T21:30:48.177Z"
   },
   {
    "duration": 284,
    "start_time": "2022-01-27T21:31:37.953Z"
   },
   {
    "duration": 348,
    "start_time": "2022-01-27T21:32:12.295Z"
   },
   {
    "duration": 305,
    "start_time": "2022-01-27T21:35:03.855Z"
   },
   {
    "duration": 1506,
    "start_time": "2022-01-28T09:34:59.457Z"
   },
   {
    "duration": 1679,
    "start_time": "2022-01-28T09:35:26.349Z"
   },
   {
    "duration": 35,
    "start_time": "2022-01-28T09:35:28.029Z"
   },
   {
    "duration": 14,
    "start_time": "2022-01-28T09:35:28.068Z"
   },
   {
    "duration": 9,
    "start_time": "2022-01-28T09:35:28.083Z"
   },
   {
    "duration": 56,
    "start_time": "2022-01-28T09:35:28.093Z"
   },
   {
    "duration": 13,
    "start_time": "2022-01-28T09:35:28.151Z"
   },
   {
    "duration": 34,
    "start_time": "2022-01-28T09:35:28.166Z"
   },
   {
    "duration": 5,
    "start_time": "2022-01-28T09:35:28.202Z"
   },
   {
    "duration": 302,
    "start_time": "2022-01-28T09:35:28.209Z"
   },
   {
    "duration": 221,
    "start_time": "2022-01-28T09:35:28.512Z"
   },
   {
    "duration": 214,
    "start_time": "2022-01-28T09:35:28.735Z"
   },
   {
    "duration": 315,
    "start_time": "2022-01-28T09:35:28.950Z"
   },
   {
    "duration": 14,
    "start_time": "2022-01-28T09:35:29.267Z"
   },
   {
    "duration": 1856,
    "start_time": "2022-01-28T09:40:04.218Z"
   },
   {
    "duration": 615,
    "start_time": "2022-01-28T09:41:26.783Z"
   },
   {
    "duration": 15,
    "start_time": "2022-01-28T09:41:27.400Z"
   },
   {
    "duration": 15,
    "start_time": "2022-01-28T09:41:27.417Z"
   },
   {
    "duration": 10,
    "start_time": "2022-01-28T09:41:27.433Z"
   },
   {
    "duration": 68,
    "start_time": "2022-01-28T09:41:27.444Z"
   },
   {
    "duration": 14,
    "start_time": "2022-01-28T09:41:27.514Z"
   },
   {
    "duration": 20,
    "start_time": "2022-01-28T09:41:27.530Z"
   },
   {
    "duration": 8,
    "start_time": "2022-01-28T09:41:27.552Z"
   },
   {
    "duration": 321,
    "start_time": "2022-01-28T09:41:27.561Z"
   },
   {
    "duration": 279,
    "start_time": "2022-01-28T09:41:27.884Z"
   },
   {
    "duration": 319,
    "start_time": "2022-01-28T09:41:28.165Z"
   },
   {
    "duration": 331,
    "start_time": "2022-01-28T09:41:28.486Z"
   },
   {
    "duration": 404,
    "start_time": "2022-01-28T09:41:28.819Z"
   },
   {
    "duration": 129,
    "start_time": "2022-01-28T09:45:37.604Z"
   },
   {
    "duration": 106,
    "start_time": "2022-01-28T09:45:41.827Z"
   },
   {
    "duration": 103,
    "start_time": "2022-01-28T09:45:51.514Z"
   },
   {
    "duration": 3,
    "start_time": "2022-01-28T09:46:43.396Z"
   },
   {
    "duration": 668,
    "start_time": "2022-01-28T09:46:50.003Z"
   },
   {
    "duration": 16,
    "start_time": "2022-01-28T09:46:50.673Z"
   },
   {
    "duration": 16,
    "start_time": "2022-01-28T09:46:50.690Z"
   },
   {
    "duration": 11,
    "start_time": "2022-01-28T09:46:50.707Z"
   },
   {
    "duration": 81,
    "start_time": "2022-01-28T09:46:50.720Z"
   },
   {
    "duration": 14,
    "start_time": "2022-01-28T09:46:50.803Z"
   },
   {
    "duration": 25,
    "start_time": "2022-01-28T09:46:50.819Z"
   },
   {
    "duration": 9,
    "start_time": "2022-01-28T09:46:50.846Z"
   },
   {
    "duration": 305,
    "start_time": "2022-01-28T09:46:50.857Z"
   },
   {
    "duration": 216,
    "start_time": "2022-01-28T09:46:51.163Z"
   },
   {
    "duration": 214,
    "start_time": "2022-01-28T09:46:51.381Z"
   },
   {
    "duration": 332,
    "start_time": "2022-01-28T09:46:51.597Z"
   },
   {
    "duration": 370,
    "start_time": "2022-01-28T09:46:51.931Z"
   },
   {
    "duration": 346,
    "start_time": "2022-01-28T09:50:17.209Z"
   },
   {
    "duration": 315,
    "start_time": "2022-01-28T09:50:21.210Z"
   },
   {
    "duration": 665,
    "start_time": "2022-01-28T09:50:30.290Z"
   },
   {
    "duration": 16,
    "start_time": "2022-01-28T09:50:30.957Z"
   },
   {
    "duration": 16,
    "start_time": "2022-01-28T09:50:30.975Z"
   },
   {
    "duration": 10,
    "start_time": "2022-01-28T09:50:30.993Z"
   },
   {
    "duration": 72,
    "start_time": "2022-01-28T09:50:31.004Z"
   },
   {
    "duration": 17,
    "start_time": "2022-01-28T09:50:31.078Z"
   },
   {
    "duration": 27,
    "start_time": "2022-01-28T09:50:31.096Z"
   },
   {
    "duration": 17,
    "start_time": "2022-01-28T09:50:31.125Z"
   },
   {
    "duration": 457,
    "start_time": "2022-01-28T09:50:31.144Z"
   },
   {
    "duration": 320,
    "start_time": "2022-01-28T09:50:31.603Z"
   },
   {
    "duration": 306,
    "start_time": "2022-01-28T09:50:31.925Z"
   },
   {
    "duration": 302,
    "start_time": "2022-01-28T09:50:32.233Z"
   },
   {
    "duration": 400,
    "start_time": "2022-01-28T09:50:32.536Z"
   },
   {
    "duration": 321,
    "start_time": "2022-01-28T09:50:58.066Z"
   },
   {
    "duration": 12,
    "start_time": "2022-01-28T09:51:10.510Z"
   },
   {
    "duration": 4,
    "start_time": "2022-01-28T09:51:47.842Z"
   },
   {
    "duration": 935,
    "start_time": "2022-01-28T13:17:42.921Z"
   },
   {
    "duration": 18,
    "start_time": "2022-01-28T13:17:43.859Z"
   },
   {
    "duration": 45,
    "start_time": "2022-01-28T13:17:43.881Z"
   },
   {
    "duration": 25,
    "start_time": "2022-01-28T13:17:43.929Z"
   },
   {
    "duration": 43,
    "start_time": "2022-01-28T13:17:43.957Z"
   },
   {
    "duration": 26,
    "start_time": "2022-01-28T13:17:44.003Z"
   },
   {
    "duration": 28,
    "start_time": "2022-01-28T13:17:44.031Z"
   },
   {
    "duration": 12,
    "start_time": "2022-01-28T13:17:44.062Z"
   },
   {
    "duration": 698,
    "start_time": "2022-01-28T13:17:44.076Z"
   },
   {
    "duration": 411,
    "start_time": "2022-01-28T13:17:44.776Z"
   },
   {
    "duration": 405,
    "start_time": "2022-01-28T13:17:45.189Z"
   },
   {
    "duration": 503,
    "start_time": "2022-01-28T13:17:45.596Z"
   },
   {
    "duration": 5,
    "start_time": "2022-01-28T13:17:46.101Z"
   },
   {
    "duration": 370,
    "start_time": "2022-01-28T13:17:46.109Z"
   },
   {
    "duration": 329,
    "start_time": "2022-01-28T13:18:02.595Z"
   },
   {
    "duration": 317,
    "start_time": "2022-01-28T13:18:10.357Z"
   },
   {
    "duration": 372,
    "start_time": "2022-01-28T13:19:07.836Z"
   },
   {
    "duration": 398,
    "start_time": "2022-01-28T13:19:49.395Z"
   },
   {
    "duration": 7052,
    "start_time": "2022-01-28T13:44:19.024Z"
   },
   {
    "duration": 23,
    "start_time": "2022-01-28T13:45:42.384Z"
   },
   {
    "duration": 11,
    "start_time": "2022-01-28T13:47:09.189Z"
   },
   {
    "duration": 15,
    "start_time": "2022-01-28T13:47:47.473Z"
   },
   {
    "duration": 272,
    "start_time": "2022-01-28T13:49:06.234Z"
   },
   {
    "duration": 372,
    "start_time": "2022-01-28T13:51:26.463Z"
   },
   {
    "duration": 571,
    "start_time": "2022-01-28T13:51:41.882Z"
   },
   {
    "duration": 427,
    "start_time": "2022-01-28T13:51:52.515Z"
   },
   {
    "duration": 421,
    "start_time": "2022-01-28T13:52:04.305Z"
   },
   {
    "duration": 412,
    "start_time": "2022-01-28T13:52:37.297Z"
   },
   {
    "duration": 519,
    "start_time": "2022-01-28T13:53:01.561Z"
   },
   {
    "duration": 17,
    "start_time": "2022-01-28T15:56:33.149Z"
   },
   {
    "duration": 217,
    "start_time": "2022-01-28T15:59:00.516Z"
   },
   {
    "duration": 189,
    "start_time": "2022-01-28T15:59:48.983Z"
   },
   {
    "duration": 206,
    "start_time": "2022-01-28T16:00:10.866Z"
   },
   {
    "duration": 201,
    "start_time": "2022-01-28T16:00:22.912Z"
   },
   {
    "duration": 210,
    "start_time": "2022-01-28T16:00:46.740Z"
   },
   {
    "duration": 210,
    "start_time": "2022-01-28T16:00:51.074Z"
   },
   {
    "duration": 329,
    "start_time": "2022-01-28T16:04:46.870Z"
   },
   {
    "duration": 403,
    "start_time": "2022-01-28T16:04:57.306Z"
   },
   {
    "duration": 6,
    "start_time": "2022-01-28T16:06:01.404Z"
   },
   {
    "duration": 6,
    "start_time": "2022-01-28T16:06:38.827Z"
   },
   {
    "duration": 5,
    "start_time": "2022-01-28T16:06:48.444Z"
   },
   {
    "duration": 6,
    "start_time": "2022-01-28T16:08:06.600Z"
   },
   {
    "duration": 392,
    "start_time": "2022-01-28T16:13:09.769Z"
   },
   {
    "duration": 6,
    "start_time": "2022-01-28T16:15:09.440Z"
   },
   {
    "duration": 821,
    "start_time": "2022-01-28T16:16:35.935Z"
   },
   {
    "duration": 18,
    "start_time": "2022-01-28T16:16:36.759Z"
   },
   {
    "duration": 23,
    "start_time": "2022-01-28T16:16:36.780Z"
   },
   {
    "duration": 29,
    "start_time": "2022-01-28T16:16:36.805Z"
   },
   {
    "duration": 39,
    "start_time": "2022-01-28T16:16:36.837Z"
   },
   {
    "duration": 24,
    "start_time": "2022-01-28T16:16:36.878Z"
   },
   {
    "duration": 23,
    "start_time": "2022-01-28T16:16:36.904Z"
   },
   {
    "duration": 9,
    "start_time": "2022-01-28T16:16:36.929Z"
   },
   {
    "duration": 570,
    "start_time": "2022-01-28T16:16:36.942Z"
   },
   {
    "duration": 387,
    "start_time": "2022-01-28T16:16:37.515Z"
   },
   {
    "duration": 384,
    "start_time": "2022-01-28T16:16:37.904Z"
   },
   {
    "duration": 486,
    "start_time": "2022-01-28T16:16:38.290Z"
   },
   {
    "duration": 432,
    "start_time": "2022-01-28T16:16:38.779Z"
   },
   {
    "duration": 474,
    "start_time": "2022-01-28T16:16:39.214Z"
   },
   {
    "duration": 261,
    "start_time": "2022-01-28T16:16:39.690Z"
   },
   {
    "duration": 421,
    "start_time": "2022-01-28T16:16:39.953Z"
   },
   {
    "duration": 7,
    "start_time": "2022-01-28T16:16:40.376Z"
   },
   {
    "duration": 388,
    "start_time": "2022-01-30T12:15:06.500Z"
   },
   {
    "duration": 839,
    "start_time": "2022-01-30T12:15:12.406Z"
   },
   {
    "duration": 21,
    "start_time": "2022-01-30T12:15:13.249Z"
   },
   {
    "duration": 26,
    "start_time": "2022-01-30T12:15:13.275Z"
   },
   {
    "duration": 16,
    "start_time": "2022-01-30T12:15:13.304Z"
   },
   {
    "duration": 53,
    "start_time": "2022-01-30T12:15:13.323Z"
   },
   {
    "duration": 26,
    "start_time": "2022-01-30T12:15:13.379Z"
   },
   {
    "duration": 24,
    "start_time": "2022-01-30T12:15:13.408Z"
   },
   {
    "duration": 11,
    "start_time": "2022-01-30T12:15:13.437Z"
   },
   {
    "duration": 570,
    "start_time": "2022-01-30T12:15:13.452Z"
   },
   {
    "duration": 374,
    "start_time": "2022-01-30T12:15:14.025Z"
   },
   {
    "duration": 391,
    "start_time": "2022-01-30T12:15:14.402Z"
   },
   {
    "duration": 447,
    "start_time": "2022-01-30T12:15:14.796Z"
   },
   {
    "duration": 395,
    "start_time": "2022-01-30T12:15:15.249Z"
   },
   {
    "duration": 440,
    "start_time": "2022-01-30T12:15:15.646Z"
   },
   {
    "duration": 188,
    "start_time": "2022-01-30T12:15:16.088Z"
   },
   {
    "duration": 381,
    "start_time": "2022-01-30T12:15:16.278Z"
   },
   {
    "duration": 6,
    "start_time": "2022-01-30T12:15:16.661Z"
   },
   {
    "duration": 28,
    "start_time": "2022-01-30T12:15:16.669Z"
   },
   {
    "duration": 28,
    "start_time": "2022-01-30T12:15:16.699Z"
   },
   {
    "duration": 362,
    "start_time": "2022-01-30T12:18:35.173Z"
   },
   {
    "duration": 393,
    "start_time": "2022-01-30T12:20:02.633Z"
   },
   {
    "duration": 7,
    "start_time": "2022-01-30T12:20:16.284Z"
   },
   {
    "duration": 16,
    "start_time": "2022-01-30T12:37:32.270Z"
   },
   {
    "duration": 16,
    "start_time": "2022-01-30T12:37:42.346Z"
   },
   {
    "duration": 14,
    "start_time": "2022-01-30T12:37:59.919Z"
   },
   {
    "duration": 90,
    "start_time": "2022-01-30T12:41:44.092Z"
   },
   {
    "duration": 103,
    "start_time": "2022-01-30T12:43:29.943Z"
   },
   {
    "duration": 97,
    "start_time": "2022-01-30T12:43:39.365Z"
   },
   {
    "duration": 139,
    "start_time": "2022-01-30T12:43:48.167Z"
   },
   {
    "duration": 90,
    "start_time": "2022-01-30T12:46:31.718Z"
   },
   {
    "duration": 102,
    "start_time": "2022-01-30T12:46:41.484Z"
   },
   {
    "duration": 105,
    "start_time": "2022-01-30T12:48:20.767Z"
   },
   {
    "duration": 93,
    "start_time": "2022-01-30T12:57:48.642Z"
   },
   {
    "duration": 298,
    "start_time": "2022-01-30T12:57:53.966Z"
   },
   {
    "duration": 33,
    "start_time": "2022-01-30T12:58:04.071Z"
   },
   {
    "duration": 36,
    "start_time": "2022-01-30T12:58:53.854Z"
   },
   {
    "duration": 307,
    "start_time": "2022-02-01T09:38:47.604Z"
   },
   {
    "duration": 672,
    "start_time": "2022-02-01T09:38:53.436Z"
   },
   {
    "duration": 43,
    "start_time": "2022-02-01T09:38:54.110Z"
   },
   {
    "duration": 15,
    "start_time": "2022-02-01T09:38:54.155Z"
   },
   {
    "duration": 12,
    "start_time": "2022-02-01T09:38:54.172Z"
   },
   {
    "duration": 71,
    "start_time": "2022-02-01T09:38:54.186Z"
   },
   {
    "duration": 18,
    "start_time": "2022-02-01T09:38:54.258Z"
   },
   {
    "duration": 47,
    "start_time": "2022-02-01T09:38:54.277Z"
   },
   {
    "duration": 7,
    "start_time": "2022-02-01T09:38:54.327Z"
   },
   {
    "duration": 350,
    "start_time": "2022-02-01T09:38:54.337Z"
   },
   {
    "duration": 280,
    "start_time": "2022-02-01T09:38:54.689Z"
   },
   {
    "duration": 274,
    "start_time": "2022-02-01T09:38:54.971Z"
   },
   {
    "duration": 341,
    "start_time": "2022-02-01T09:38:55.247Z"
   },
   {
    "duration": 303,
    "start_time": "2022-02-01T09:38:55.598Z"
   },
   {
    "duration": 347,
    "start_time": "2022-02-01T09:38:55.904Z"
   },
   {
    "duration": 116,
    "start_time": "2022-02-01T09:38:56.253Z"
   },
   {
    "duration": 317,
    "start_time": "2022-02-01T09:38:56.370Z"
   },
   {
    "duration": 12,
    "start_time": "2022-02-01T09:38:56.689Z"
   },
   {
    "duration": 325,
    "start_time": "2022-02-01T09:38:56.702Z"
   },
   {
    "duration": 5,
    "start_time": "2022-02-01T09:38:57.029Z"
   },
   {
    "duration": 88,
    "start_time": "2022-02-01T09:38:57.035Z"
   },
   {
    "duration": 86,
    "start_time": "2022-02-01T09:38:57.124Z"
   },
   {
    "duration": 38,
    "start_time": "2022-02-01T09:38:57.212Z"
   },
   {
    "duration": 339,
    "start_time": "2022-02-01T09:43:55.304Z"
   },
   {
    "duration": 474,
    "start_time": "2022-02-01T09:44:05.294Z"
   },
   {
    "duration": 89,
    "start_time": "2022-02-01T09:44:32.551Z"
   },
   {
    "duration": 461,
    "start_time": "2022-02-01T09:44:37.418Z"
   },
   {
    "duration": 544,
    "start_time": "2022-02-01T09:53:44.745Z"
   },
   {
    "duration": 1125,
    "start_time": "2022-02-01T09:53:50.743Z"
   },
   {
    "duration": 15,
    "start_time": "2022-02-01T09:53:51.870Z"
   },
   {
    "duration": 21,
    "start_time": "2022-02-01T09:53:51.890Z"
   },
   {
    "duration": 12,
    "start_time": "2022-02-01T09:53:51.913Z"
   },
   {
    "duration": 52,
    "start_time": "2022-02-01T09:53:51.927Z"
   },
   {
    "duration": 18,
    "start_time": "2022-02-01T09:53:51.981Z"
   },
   {
    "duration": 22,
    "start_time": "2022-02-01T09:53:52.002Z"
   },
   {
    "duration": 11,
    "start_time": "2022-02-01T09:53:52.026Z"
   },
   {
    "duration": 378,
    "start_time": "2022-02-01T09:53:52.039Z"
   },
   {
    "duration": 281,
    "start_time": "2022-02-01T09:53:52.419Z"
   },
   {
    "duration": 301,
    "start_time": "2022-02-01T09:53:52.702Z"
   },
   {
    "duration": 417,
    "start_time": "2022-02-01T09:53:53.006Z"
   },
   {
    "duration": 299,
    "start_time": "2022-02-01T09:53:53.425Z"
   },
   {
    "duration": 368,
    "start_time": "2022-02-01T09:53:53.727Z"
   },
   {
    "duration": 155,
    "start_time": "2022-02-01T09:53:54.098Z"
   },
   {
    "duration": 332,
    "start_time": "2022-02-01T09:53:54.254Z"
   },
   {
    "duration": 12,
    "start_time": "2022-02-01T09:53:54.589Z"
   },
   {
    "duration": 455,
    "start_time": "2022-02-01T09:53:54.603Z"
   },
   {
    "duration": 7,
    "start_time": "2022-02-01T09:53:55.060Z"
   },
   {
    "duration": 155,
    "start_time": "2022-02-01T09:53:55.069Z"
   },
   {
    "duration": 29,
    "start_time": "2022-02-01T09:53:55.226Z"
   },
   {
    "duration": 576,
    "start_time": "2022-02-01T09:53:55.258Z"
   },
   {
    "duration": 278,
    "start_time": "2022-02-01T09:55:32.652Z"
   },
   {
    "duration": 884,
    "start_time": "2022-02-01T09:57:49.983Z"
   },
   {
    "duration": 1036,
    "start_time": "2022-02-01T09:58:19.941Z"
   },
   {
    "duration": 470,
    "start_time": "2022-02-01T10:09:10.914Z"
   },
   {
    "duration": 483,
    "start_time": "2022-02-01T10:09:22.451Z"
   },
   {
    "duration": 1189,
    "start_time": "2022-02-01T10:09:54.190Z"
   },
   {
    "duration": 16,
    "start_time": "2022-02-01T10:09:55.381Z"
   },
   {
    "duration": 19,
    "start_time": "2022-02-01T10:09:55.400Z"
   },
   {
    "duration": 14,
    "start_time": "2022-02-01T10:09:55.421Z"
   },
   {
    "duration": 53,
    "start_time": "2022-02-01T10:09:55.438Z"
   },
   {
    "duration": 18,
    "start_time": "2022-02-01T10:09:55.493Z"
   },
   {
    "duration": 21,
    "start_time": "2022-02-01T10:09:55.513Z"
   },
   {
    "duration": 9,
    "start_time": "2022-02-01T10:09:55.536Z"
   },
   {
    "duration": 364,
    "start_time": "2022-02-01T10:09:55.549Z"
   },
   {
    "duration": 285,
    "start_time": "2022-02-01T10:09:55.916Z"
   },
   {
    "duration": 279,
    "start_time": "2022-02-01T10:09:56.203Z"
   },
   {
    "duration": 362,
    "start_time": "2022-02-01T10:09:56.484Z"
   },
   {
    "duration": 273,
    "start_time": "2022-02-01T10:09:56.849Z"
   },
   {
    "duration": 336,
    "start_time": "2022-02-01T10:09:57.124Z"
   },
   {
    "duration": 147,
    "start_time": "2022-02-01T10:09:57.462Z"
   },
   {
    "duration": 310,
    "start_time": "2022-02-01T10:09:57.611Z"
   },
   {
    "duration": 5,
    "start_time": "2022-02-01T10:09:57.923Z"
   },
   {
    "duration": 386,
    "start_time": "2022-02-01T10:09:57.930Z"
   },
   {
    "duration": 5,
    "start_time": "2022-02-01T10:09:58.318Z"
   },
   {
    "duration": 125,
    "start_time": "2022-02-01T10:09:58.325Z"
   },
   {
    "duration": 589,
    "start_time": "2022-02-01T10:09:58.452Z"
   },
   {
    "duration": 23,
    "start_time": "2022-02-01T10:10:30.174Z"
   },
   {
    "duration": 455,
    "start_time": "2022-02-01T10:11:52.812Z"
   },
   {
    "duration": 453,
    "start_time": "2022-02-01T10:13:06.633Z"
   },
   {
    "duration": 458,
    "start_time": "2022-02-01T10:14:36.445Z"
   },
   {
    "duration": 448,
    "start_time": "2022-02-01T10:14:53.379Z"
   },
   {
    "duration": 15,
    "start_time": "2022-02-01T10:20:19.867Z"
   },
   {
    "duration": 23,
    "start_time": "2022-02-01T10:20:25.192Z"
   },
   {
    "duration": 285,
    "start_time": "2022-02-01T10:20:31.862Z"
   },
   {
    "duration": 24,
    "start_time": "2022-02-01T10:20:40.860Z"
   },
   {
    "duration": 22,
    "start_time": "2022-02-01T10:22:24.108Z"
   },
   {
    "duration": 20,
    "start_time": "2022-02-01T10:27:28.227Z"
   },
   {
    "duration": 81,
    "start_time": "2022-02-01T10:33:21.625Z"
   },
   {
    "duration": 94,
    "start_time": "2022-02-01T10:33:46.525Z"
   },
   {
    "duration": 80,
    "start_time": "2022-02-01T10:37:49.718Z"
   },
   {
    "duration": 89,
    "start_time": "2022-02-01T11:09:02.579Z"
   },
   {
    "duration": 102,
    "start_time": "2022-02-01T11:11:06.238Z"
   },
   {
    "duration": 34,
    "start_time": "2022-02-01T11:11:31.322Z"
   },
   {
    "duration": 84,
    "start_time": "2022-02-01T11:15:18.098Z"
   },
   {
    "duration": 8,
    "start_time": "2022-02-01T11:24:53.376Z"
   },
   {
    "duration": 11,
    "start_time": "2022-02-01T11:27:07.689Z"
   },
   {
    "duration": 11,
    "start_time": "2022-02-01T11:27:46.937Z"
   },
   {
    "duration": 11,
    "start_time": "2022-02-01T11:28:20.738Z"
   },
   {
    "duration": 11,
    "start_time": "2022-02-01T11:29:46.201Z"
   },
   {
    "duration": 10,
    "start_time": "2022-02-01T11:29:54.631Z"
   },
   {
    "duration": 70,
    "start_time": "2022-02-01T11:30:08.581Z"
   },
   {
    "duration": 63,
    "start_time": "2022-02-01T11:30:13.302Z"
   },
   {
    "duration": 66,
    "start_time": "2022-02-01T11:31:41.818Z"
   },
   {
    "duration": 122,
    "start_time": "2022-02-01T11:32:05.256Z"
   },
   {
    "duration": 5,
    "start_time": "2022-02-01T11:56:02.589Z"
   },
   {
    "duration": 6,
    "start_time": "2022-02-01T11:56:27.041Z"
   },
   {
    "duration": 9,
    "start_time": "2022-02-01T11:56:35.014Z"
   },
   {
    "duration": 9,
    "start_time": "2022-02-01T11:56:43.758Z"
   },
   {
    "duration": 4,
    "start_time": "2022-02-01T12:14:07.195Z"
   },
   {
    "duration": 271,
    "start_time": "2022-02-01T12:16:17.641Z"
   },
   {
    "duration": 5,
    "start_time": "2022-02-01T12:16:34.080Z"
   },
   {
    "duration": 5,
    "start_time": "2022-02-01T12:16:43.277Z"
   },
   {
    "duration": 6,
    "start_time": "2022-02-01T12:16:49.646Z"
   },
   {
    "duration": 270,
    "start_time": "2022-02-01T12:17:52.954Z"
   },
   {
    "duration": 316,
    "start_time": "2022-02-01T12:18:23.101Z"
   },
   {
    "duration": 6,
    "start_time": "2022-02-01T12:18:31.810Z"
   },
   {
    "duration": 3,
    "start_time": "2022-02-01T12:22:13.692Z"
   },
   {
    "duration": 6,
    "start_time": "2022-02-01T12:22:34.095Z"
   },
   {
    "duration": 6,
    "start_time": "2022-02-01T12:23:32.838Z"
   },
   {
    "duration": 5,
    "start_time": "2022-02-01T12:37:33.931Z"
   },
   {
    "duration": 6,
    "start_time": "2022-02-01T13:46:02.904Z"
   },
   {
    "duration": 8,
    "start_time": "2022-02-01T13:49:44.677Z"
   },
   {
    "duration": 280,
    "start_time": "2022-02-01T13:51:39.379Z"
   },
   {
    "duration": 271,
    "start_time": "2022-02-01T13:52:11.369Z"
   },
   {
    "duration": 273,
    "start_time": "2022-02-01T13:52:41.294Z"
   },
   {
    "duration": 404,
    "start_time": "2022-02-01T13:52:47.401Z"
   },
   {
    "duration": 88,
    "start_time": "2022-02-01T13:54:44.898Z"
   },
   {
    "duration": 93,
    "start_time": "2022-02-01T13:55:28.539Z"
   },
   {
    "duration": 257,
    "start_time": "2022-02-01T13:55:46.653Z"
   },
   {
    "duration": 85,
    "start_time": "2022-02-01T13:56:36.922Z"
   },
   {
    "duration": 6,
    "start_time": "2022-02-01T13:56:45.627Z"
   },
   {
    "duration": 11,
    "start_time": "2022-02-01T13:57:02.765Z"
   },
   {
    "duration": 6,
    "start_time": "2022-02-01T14:16:58.848Z"
   },
   {
    "duration": 168,
    "start_time": "2022-02-04T13:33:36.948Z"
   },
   {
    "duration": 115,
    "start_time": "2022-02-04T13:33:59.108Z"
   },
   {
    "duration": 115,
    "start_time": "2022-02-04T13:34:05.476Z"
   },
   {
    "duration": 439,
    "start_time": "2022-02-04T13:34:19.799Z"
   },
   {
    "duration": 1307,
    "start_time": "2022-02-04T13:35:23.848Z"
   },
   {
    "duration": 16,
    "start_time": "2022-02-04T13:35:25.157Z"
   },
   {
    "duration": 15,
    "start_time": "2022-02-04T13:35:25.175Z"
   },
   {
    "duration": 11,
    "start_time": "2022-02-04T13:35:25.192Z"
   },
   {
    "duration": 79,
    "start_time": "2022-02-04T13:35:25.204Z"
   },
   {
    "duration": 15,
    "start_time": "2022-02-04T13:35:25.284Z"
   },
   {
    "duration": 21,
    "start_time": "2022-02-04T13:35:25.300Z"
   },
   {
    "duration": 7,
    "start_time": "2022-02-04T13:35:25.324Z"
   },
   {
    "duration": 313,
    "start_time": "2022-02-04T13:35:25.332Z"
   },
   {
    "duration": 232,
    "start_time": "2022-02-04T13:35:25.647Z"
   },
   {
    "duration": 207,
    "start_time": "2022-02-04T13:35:25.881Z"
   },
   {
    "duration": 308,
    "start_time": "2022-02-04T13:35:26.090Z"
   },
   {
    "duration": 207,
    "start_time": "2022-02-04T13:35:26.399Z"
   },
   {
    "duration": 308,
    "start_time": "2022-02-04T13:35:26.607Z"
   },
   {
    "duration": 122,
    "start_time": "2022-02-04T13:35:26.916Z"
   },
   {
    "duration": 272,
    "start_time": "2022-02-04T13:35:27.040Z"
   },
   {
    "duration": 14,
    "start_time": "2022-02-04T13:35:27.314Z"
   },
   {
    "duration": 306,
    "start_time": "2022-02-04T13:35:27.329Z"
   },
   {
    "duration": 4,
    "start_time": "2022-02-04T13:35:27.636Z"
   },
   {
    "duration": 114,
    "start_time": "2022-02-04T13:35:27.642Z"
   },
   {
    "duration": 72,
    "start_time": "2022-02-04T13:35:27.757Z"
   },
   {
    "duration": 76,
    "start_time": "2022-02-04T13:35:27.831Z"
   },
   {
    "duration": 45,
    "start_time": "2022-02-04T13:35:27.910Z"
   },
   {
    "duration": 113,
    "start_time": "2022-02-04T13:35:27.957Z"
   },
   {
    "duration": 4,
    "start_time": "2022-02-04T13:35:28.072Z"
   },
   {
    "duration": 6,
    "start_time": "2022-02-04T13:35:28.078Z"
   },
   {
    "duration": 9,
    "start_time": "2022-02-04T13:35:28.086Z"
   },
   {
    "duration": 22779,
    "start_time": "2022-02-04T13:35:28.096Z"
   },
   {
    "duration": -58,
    "start_time": "2022-02-04T13:36:54.285Z"
   },
   {
    "duration": 9535,
    "start_time": "2022-02-04T13:36:56.369Z"
   },
   {
    "duration": 98,
    "start_time": "2022-02-04T13:38:17.611Z"
   },
   {
    "duration": 5,
    "start_time": "2022-02-04T13:38:18.558Z"
   },
   {
    "duration": 4,
    "start_time": "2022-02-04T13:38:19.760Z"
   },
   {
    "duration": 9,
    "start_time": "2022-02-04T13:38:22.643Z"
   },
   {
    "duration": 8,
    "start_time": "2022-02-04T13:38:30.934Z"
   },
   {
    "duration": 361,
    "start_time": "2022-02-04T13:39:08.896Z"
   },
   {
    "duration": 10,
    "start_time": "2022-02-04T13:39:26.361Z"
   },
   {
    "duration": 10,
    "start_time": "2022-02-04T13:39:35.915Z"
   },
   {
    "duration": 9,
    "start_time": "2022-02-04T13:40:22.089Z"
   },
   {
    "duration": 9013,
    "start_time": "2022-02-04T14:01:12.932Z"
   },
   {
    "duration": 355,
    "start_time": "2022-02-04T14:01:39.956Z"
   },
   {
    "duration": 6,
    "start_time": "2022-02-04T14:01:54.881Z"
   },
   {
    "duration": 9,
    "start_time": "2022-02-04T14:02:25.710Z"
   },
   {
    "duration": 7,
    "start_time": "2022-02-04T14:04:36.093Z"
   },
   {
    "duration": 7,
    "start_time": "2022-02-04T14:05:11.177Z"
   },
   {
    "duration": 5,
    "start_time": "2022-02-04T14:05:27.512Z"
   },
   {
    "duration": 7,
    "start_time": "2022-02-04T14:24:08.908Z"
   },
   {
    "duration": 7,
    "start_time": "2022-02-04T14:24:27.155Z"
   },
   {
    "duration": 7,
    "start_time": "2022-02-04T14:26:42.774Z"
   },
   {
    "duration": 228,
    "start_time": "2022-02-05T17:49:08.858Z"
   },
   {
    "duration": 1113,
    "start_time": "2022-02-05T17:49:16.351Z"
   },
   {
    "duration": 15,
    "start_time": "2022-02-05T17:49:17.466Z"
   },
   {
    "duration": 14,
    "start_time": "2022-02-05T17:49:17.485Z"
   },
   {
    "duration": 20,
    "start_time": "2022-02-05T17:49:17.501Z"
   },
   {
    "duration": 34,
    "start_time": "2022-02-05T17:49:17.523Z"
   },
   {
    "duration": 16,
    "start_time": "2022-02-05T17:49:17.559Z"
   },
   {
    "duration": 16,
    "start_time": "2022-02-05T17:49:17.578Z"
   },
   {
    "duration": 9,
    "start_time": "2022-02-05T17:49:17.596Z"
   },
   {
    "duration": 341,
    "start_time": "2022-02-05T17:49:17.607Z"
   },
   {
    "duration": 266,
    "start_time": "2022-02-05T17:49:17.950Z"
   },
   {
    "duration": 254,
    "start_time": "2022-02-05T17:49:18.218Z"
   },
   {
    "duration": 330,
    "start_time": "2022-02-05T17:49:18.474Z"
   },
   {
    "duration": 253,
    "start_time": "2022-02-05T17:49:18.806Z"
   },
   {
    "duration": 296,
    "start_time": "2022-02-05T17:49:19.061Z"
   },
   {
    "duration": 111,
    "start_time": "2022-02-05T17:49:19.359Z"
   },
   {
    "duration": 299,
    "start_time": "2022-02-05T17:49:19.472Z"
   },
   {
    "duration": 6,
    "start_time": "2022-02-05T17:49:19.773Z"
   },
   {
    "duration": 354,
    "start_time": "2022-02-05T17:49:19.781Z"
   },
   {
    "duration": 5,
    "start_time": "2022-02-05T17:49:20.136Z"
   },
   {
    "duration": 122,
    "start_time": "2022-02-05T17:49:20.143Z"
   },
   {
    "duration": 90,
    "start_time": "2022-02-05T17:49:20.267Z"
   },
   {
    "duration": 81,
    "start_time": "2022-02-05T17:49:20.360Z"
   },
   {
    "duration": 31,
    "start_time": "2022-02-05T17:49:20.443Z"
   },
   {
    "duration": 119,
    "start_time": "2022-02-05T17:49:20.475Z"
   },
   {
    "duration": 5,
    "start_time": "2022-02-05T17:49:20.595Z"
   },
   {
    "duration": 11,
    "start_time": "2022-02-05T17:49:20.602Z"
   },
   {
    "duration": 12,
    "start_time": "2022-02-05T17:49:20.615Z"
   },
   {
    "duration": 10,
    "start_time": "2022-02-05T17:49:20.629Z"
   },
   {
    "duration": 9,
    "start_time": "2022-02-05T17:49:20.641Z"
   },
   {
    "duration": 8,
    "start_time": "2022-02-05T17:49:20.652Z"
   },
   {
    "duration": 1937,
    "start_time": "2022-02-05T17:49:20.662Z"
   },
   {
    "duration": 1692,
    "start_time": "2022-02-05T17:51:16.675Z"
   },
   {
    "duration": 10,
    "start_time": "2022-02-05T17:52:23.020Z"
   },
   {
    "duration": 10,
    "start_time": "2022-02-05T17:52:33.267Z"
   },
   {
    "duration": 8,
    "start_time": "2022-02-05T17:53:20.729Z"
   },
   {
    "duration": 12,
    "start_time": "2022-02-05T17:53:51.220Z"
   },
   {
    "duration": 200,
    "start_time": "2022-02-05T17:54:42.294Z"
   },
   {
    "duration": 8,
    "start_time": "2022-02-05T17:54:53.620Z"
   },
   {
    "duration": 413,
    "start_time": "2022-02-05T17:56:52.304Z"
   },
   {
    "duration": 1249,
    "start_time": "2022-02-05T17:57:51.099Z"
   },
   {
    "duration": 8,
    "start_time": "2022-02-05T17:58:48.267Z"
   },
   {
    "duration": 14,
    "start_time": "2022-02-05T17:59:35.903Z"
   },
   {
    "duration": 14,
    "start_time": "2022-02-05T18:01:28.585Z"
   },
   {
    "duration": 15,
    "start_time": "2022-02-05T18:01:40.182Z"
   },
   {
    "duration": 289,
    "start_time": "2022-02-05T19:14:36.552Z"
   },
   {
    "duration": 296,
    "start_time": "2022-02-05T19:15:42.884Z"
   },
   {
    "duration": 271,
    "start_time": "2022-02-05T19:15:55.062Z"
   },
   {
    "duration": 5257,
    "start_time": "2022-02-05T19:16:52.080Z"
   },
   {
    "duration": 10,
    "start_time": "2022-02-05T19:17:05.266Z"
   },
   {
    "duration": 1568,
    "start_time": "2022-02-06T11:42:20.674Z"
   },
   {
    "duration": 18,
    "start_time": "2022-02-06T11:42:22.245Z"
   },
   {
    "duration": 18,
    "start_time": "2022-02-06T11:42:22.266Z"
   },
   {
    "duration": 13,
    "start_time": "2022-02-06T11:42:22.286Z"
   },
   {
    "duration": 44,
    "start_time": "2022-02-06T11:42:22.301Z"
   },
   {
    "duration": 16,
    "start_time": "2022-02-06T11:42:22.347Z"
   },
   {
    "duration": 24,
    "start_time": "2022-02-06T11:42:22.365Z"
   },
   {
    "duration": 9,
    "start_time": "2022-02-06T11:42:22.392Z"
   },
   {
    "duration": 561,
    "start_time": "2022-02-06T11:42:22.404Z"
   },
   {
    "duration": 397,
    "start_time": "2022-02-06T11:42:22.968Z"
   },
   {
    "duration": 359,
    "start_time": "2022-02-06T11:42:23.367Z"
   },
   {
    "duration": 434,
    "start_time": "2022-02-06T11:42:23.728Z"
   },
   {
    "duration": 247,
    "start_time": "2022-02-06T11:42:24.164Z"
   },
   {
    "duration": 405,
    "start_time": "2022-02-06T11:42:24.413Z"
   },
   {
    "duration": 117,
    "start_time": "2022-02-06T11:42:24.820Z"
   },
   {
    "duration": 329,
    "start_time": "2022-02-06T11:42:24.939Z"
   },
   {
    "duration": 5,
    "start_time": "2022-02-06T11:42:25.270Z"
   },
   {
    "duration": 374,
    "start_time": "2022-02-06T11:42:25.277Z"
   },
   {
    "duration": 5,
    "start_time": "2022-02-06T11:42:25.652Z"
   },
   {
    "duration": 121,
    "start_time": "2022-02-06T11:42:25.659Z"
   },
   {
    "duration": 81,
    "start_time": "2022-02-06T11:42:25.782Z"
   },
   {
    "duration": 95,
    "start_time": "2022-02-06T11:42:25.865Z"
   },
   {
    "duration": 35,
    "start_time": "2022-02-06T11:42:25.963Z"
   },
   {
    "duration": 166,
    "start_time": "2022-02-06T11:42:25.999Z"
   },
   {
    "duration": 5,
    "start_time": "2022-02-06T11:42:26.167Z"
   },
   {
    "duration": 8,
    "start_time": "2022-02-06T11:42:26.174Z"
   },
   {
    "duration": 10,
    "start_time": "2022-02-06T11:42:26.183Z"
   },
   {
    "duration": 30,
    "start_time": "2022-02-06T11:42:26.195Z"
   },
   {
    "duration": 13,
    "start_time": "2022-02-06T11:42:26.227Z"
   },
   {
    "duration": 10,
    "start_time": "2022-02-06T11:42:26.242Z"
   },
   {
    "duration": 16,
    "start_time": "2022-02-06T11:42:26.254Z"
   },
   {
    "duration": 79,
    "start_time": "2022-02-06T11:44:59.249Z"
   },
   {
    "duration": 6,
    "start_time": "2022-02-06T11:46:37.696Z"
   },
   {
    "duration": 6,
    "start_time": "2022-02-06T11:49:34.886Z"
   },
   {
    "duration": 10,
    "start_time": "2022-02-06T14:53:42.990Z"
   },
   {
    "duration": 6,
    "start_time": "2022-02-06T14:55:09.794Z"
   },
   {
    "duration": 357,
    "start_time": "2022-02-06T16:32:27.545Z"
   },
   {
    "duration": 1165,
    "start_time": "2022-02-06T16:33:05.327Z"
   },
   {
    "duration": 18,
    "start_time": "2022-02-06T16:33:06.494Z"
   },
   {
    "duration": 18,
    "start_time": "2022-02-06T16:33:06.513Z"
   },
   {
    "duration": 12,
    "start_time": "2022-02-06T16:33:39.795Z"
   },
   {
    "duration": 17,
    "start_time": "2022-02-06T16:33:47.017Z"
   },
   {
    "duration": 20,
    "start_time": "2022-02-06T16:34:01.096Z"
   },
   {
    "duration": 7,
    "start_time": "2022-02-06T16:34:02.041Z"
   },
   {
    "duration": 4,
    "start_time": "2022-02-06T16:34:25.662Z"
   },
   {
    "duration": 5,
    "start_time": "2022-02-06T16:34:31.302Z"
   },
   {
    "duration": 4,
    "start_time": "2022-02-06T16:35:12.567Z"
   },
   {
    "duration": 5,
    "start_time": "2022-02-06T16:35:37.553Z"
   },
   {
    "duration": 4,
    "start_time": "2022-02-06T16:39:43.003Z"
   },
   {
    "duration": 4,
    "start_time": "2022-02-06T16:40:42.707Z"
   },
   {
    "duration": 5,
    "start_time": "2022-02-06T16:40:57.104Z"
   },
   {
    "duration": 6,
    "start_time": "2022-02-06T16:43:17.903Z"
   },
   {
    "duration": 11,
    "start_time": "2022-02-06T16:43:28.196Z"
   },
   {
    "duration": 14,
    "start_time": "2022-02-06T16:43:37.829Z"
   },
   {
    "duration": 14,
    "start_time": "2022-02-06T16:44:22.694Z"
   },
   {
    "duration": 13,
    "start_time": "2022-02-06T16:44:40.733Z"
   },
   {
    "duration": 89,
    "start_time": "2022-02-06T16:46:17.139Z"
   },
   {
    "duration": 317,
    "start_time": "2022-02-06T16:52:42.013Z"
   },
   {
    "duration": 40,
    "start_time": "2022-02-06T16:52:49.504Z"
   },
   {
    "duration": 18,
    "start_time": "2022-02-06T16:52:50.117Z"
   },
   {
    "duration": 20,
    "start_time": "2022-02-06T16:52:51.510Z"
   },
   {
    "duration": 9,
    "start_time": "2022-02-06T16:52:52.027Z"
   },
   {
    "duration": 4,
    "start_time": "2022-02-06T16:52:53.297Z"
   },
   {
    "duration": 6,
    "start_time": "2022-02-06T16:56:19.460Z"
   },
   {
    "duration": 5,
    "start_time": "2022-02-06T16:59:16.599Z"
   },
   {
    "duration": 11,
    "start_time": "2022-02-06T16:59:45.269Z"
   },
   {
    "duration": 452,
    "start_time": "2022-02-06T18:03:03.393Z"
   },
   {
    "duration": 1273,
    "start_time": "2022-02-06T18:03:11.112Z"
   },
   {
    "duration": 17,
    "start_time": "2022-02-06T18:03:12.387Z"
   },
   {
    "duration": 25,
    "start_time": "2022-02-06T18:03:12.409Z"
   },
   {
    "duration": 15,
    "start_time": "2022-02-06T18:03:12.437Z"
   },
   {
    "duration": 47,
    "start_time": "2022-02-06T18:03:12.454Z"
   },
   {
    "duration": 20,
    "start_time": "2022-02-06T18:03:12.503Z"
   },
   {
    "duration": 23,
    "start_time": "2022-02-06T18:03:12.526Z"
   },
   {
    "duration": 14,
    "start_time": "2022-02-06T18:03:12.551Z"
   },
   {
    "duration": 15,
    "start_time": "2022-02-06T18:03:12.567Z"
   },
   {
    "duration": 433,
    "start_time": "2022-02-06T18:03:12.584Z"
   },
   {
    "duration": 425,
    "start_time": "2022-02-06T18:03:13.019Z"
   },
   {
    "duration": 357,
    "start_time": "2022-02-06T18:03:13.447Z"
   },
   {
    "duration": 405,
    "start_time": "2022-02-06T18:03:13.807Z"
   },
   {
    "duration": 321,
    "start_time": "2022-02-06T18:03:14.215Z"
   },
   {
    "duration": 353,
    "start_time": "2022-02-06T18:03:14.538Z"
   },
   {
    "duration": 141,
    "start_time": "2022-02-06T18:03:14.893Z"
   },
   {
    "duration": 345,
    "start_time": "2022-02-06T18:03:15.036Z"
   },
   {
    "duration": 7,
    "start_time": "2022-02-06T18:03:15.384Z"
   },
   {
    "duration": 454,
    "start_time": "2022-02-06T18:03:15.399Z"
   },
   {
    "duration": 5,
    "start_time": "2022-02-06T18:03:15.855Z"
   },
   {
    "duration": 144,
    "start_time": "2022-02-06T18:03:15.862Z"
   },
   {
    "duration": 96,
    "start_time": "2022-02-06T18:03:16.010Z"
   },
   {
    "duration": 97,
    "start_time": "2022-02-06T18:03:16.108Z"
   },
   {
    "duration": 33,
    "start_time": "2022-02-06T18:03:16.207Z"
   },
   {
    "duration": 156,
    "start_time": "2022-02-06T18:03:16.242Z"
   },
   {
    "duration": 7,
    "start_time": "2022-02-06T18:03:16.400Z"
   },
   {
    "duration": 12,
    "start_time": "2022-02-06T18:03:16.409Z"
   },
   {
    "duration": 14,
    "start_time": "2022-02-06T18:03:16.423Z"
   },
   {
    "duration": 11,
    "start_time": "2022-02-06T18:03:16.439Z"
   },
   {
    "duration": 10,
    "start_time": "2022-02-06T18:03:16.451Z"
   },
   {
    "duration": 41,
    "start_time": "2022-02-06T18:03:16.463Z"
   },
   {
    "duration": 16,
    "start_time": "2022-02-06T18:03:16.506Z"
   },
   {
    "duration": 235,
    "start_time": "2022-02-06T18:04:49.393Z"
   },
   {
    "duration": 91,
    "start_time": "2022-02-06T18:05:20.812Z"
   },
   {
    "duration": 88,
    "start_time": "2022-02-06T18:05:46.519Z"
   },
   {
    "duration": 263,
    "start_time": "2022-02-06T18:05:50.859Z"
   },
   {
    "duration": 321,
    "start_time": "2022-02-06T18:10:38.402Z"
   },
   {
    "duration": 305,
    "start_time": "2022-02-06T18:10:49.907Z"
   },
   {
    "duration": 318,
    "start_time": "2022-02-06T18:11:20.840Z"
   },
   {
    "duration": 316,
    "start_time": "2022-02-06T18:11:36.198Z"
   },
   {
    "duration": 324,
    "start_time": "2022-02-06T18:11:40.287Z"
   },
   {
    "duration": 329,
    "start_time": "2022-02-06T18:11:49.597Z"
   },
   {
    "duration": 365,
    "start_time": "2022-02-06T18:12:58.909Z"
   },
   {
    "duration": 400,
    "start_time": "2022-02-06T18:13:54.992Z"
   },
   {
    "duration": 461,
    "start_time": "2022-02-06T18:14:04.727Z"
   },
   {
    "duration": 280,
    "start_time": "2022-02-06T18:14:36.156Z"
   },
   {
    "duration": 385,
    "start_time": "2022-02-06T18:15:26.188Z"
   },
   {
    "duration": 484,
    "start_time": "2022-02-06T21:04:16.763Z"
   },
   {
    "duration": 275,
    "start_time": "2022-02-06T21:04:27.573Z"
   },
   {
    "duration": 1162,
    "start_time": "2022-02-06T21:04:33.283Z"
   },
   {
    "duration": 285,
    "start_time": "2022-02-06T21:04:56.443Z"
   },
   {
    "duration": 15,
    "start_time": "2022-02-06T21:07:33.355Z"
   },
   {
    "duration": 15,
    "start_time": "2022-02-06T21:07:36.910Z"
   },
   {
    "duration": 271,
    "start_time": "2022-02-06T21:08:18.980Z"
   },
   {
    "duration": 5,
    "start_time": "2022-02-06T21:08:32.715Z"
   },
   {
    "duration": 6,
    "start_time": "2022-02-06T21:08:39.400Z"
   },
   {
    "duration": 6,
    "start_time": "2022-02-06T21:08:44.477Z"
   },
   {
    "duration": 6,
    "start_time": "2022-02-06T21:09:00.567Z"
   },
   {
    "duration": 419,
    "start_time": "2022-02-07T12:36:48.292Z"
   },
   {
    "duration": 1137,
    "start_time": "2022-02-07T12:36:55.760Z"
   },
   {
    "duration": 16,
    "start_time": "2022-02-07T12:36:56.899Z"
   },
   {
    "duration": 13,
    "start_time": "2022-02-07T12:36:56.919Z"
   },
   {
    "duration": 11,
    "start_time": "2022-02-07T12:36:56.933Z"
   },
   {
    "duration": 43,
    "start_time": "2022-02-07T12:36:56.945Z"
   },
   {
    "duration": 14,
    "start_time": "2022-02-07T12:36:56.989Z"
   },
   {
    "duration": 19,
    "start_time": "2022-02-07T12:36:57.005Z"
   },
   {
    "duration": 5,
    "start_time": "2022-02-07T12:36:57.026Z"
   },
   {
    "duration": 11,
    "start_time": "2022-02-07T12:36:57.033Z"
   },
   {
    "duration": 313,
    "start_time": "2022-02-07T12:36:57.045Z"
   },
   {
    "duration": 278,
    "start_time": "2022-02-07T12:36:57.359Z"
   },
   {
    "duration": 238,
    "start_time": "2022-02-07T12:36:57.638Z"
   },
   {
    "duration": 348,
    "start_time": "2022-02-07T12:36:57.878Z"
   },
   {
    "duration": 220,
    "start_time": "2022-02-07T12:36:58.228Z"
   },
   {
    "duration": 348,
    "start_time": "2022-02-07T12:36:58.450Z"
   },
   {
    "duration": 123,
    "start_time": "2022-02-07T12:36:58.800Z"
   },
   {
    "duration": 295,
    "start_time": "2022-02-07T12:36:58.925Z"
   },
   {
    "duration": 4,
    "start_time": "2022-02-07T12:36:59.222Z"
   },
   {
    "duration": 352,
    "start_time": "2022-02-07T12:36:59.227Z"
   },
   {
    "duration": 4,
    "start_time": "2022-02-07T12:36:59.581Z"
   },
   {
    "duration": 115,
    "start_time": "2022-02-07T12:36:59.587Z"
   },
   {
    "duration": 85,
    "start_time": "2022-02-07T12:36:59.704Z"
   },
   {
    "duration": 120,
    "start_time": "2022-02-07T12:36:59.791Z"
   },
   {
    "duration": 59,
    "start_time": "2022-02-07T12:36:59.913Z"
   },
   {
    "duration": 212,
    "start_time": "2022-02-07T12:36:59.974Z"
   },
   {
    "duration": 9,
    "start_time": "2022-02-07T12:37:00.188Z"
   },
   {
    "duration": 10,
    "start_time": "2022-02-07T12:37:00.199Z"
   },
   {
    "duration": 14,
    "start_time": "2022-02-07T12:37:00.211Z"
   },
   {
    "duration": 9,
    "start_time": "2022-02-07T12:37:00.227Z"
   },
   {
    "duration": 36,
    "start_time": "2022-02-07T12:37:00.238Z"
   },
   {
    "duration": 7,
    "start_time": "2022-02-07T12:37:00.275Z"
   },
   {
    "duration": 12,
    "start_time": "2022-02-07T12:37:00.284Z"
   },
   {
    "duration": 5,
    "start_time": "2022-02-07T12:38:25.842Z"
   },
   {
    "duration": 8,
    "start_time": "2022-02-07T12:38:59.819Z"
   },
   {
    "duration": 6,
    "start_time": "2022-02-07T12:39:28.797Z"
   },
   {
    "duration": 8,
    "start_time": "2022-02-07T12:39:33.965Z"
   },
   {
    "duration": 8,
    "start_time": "2022-02-07T12:39:39.766Z"
   },
   {
    "duration": 299,
    "start_time": "2022-02-08T08:23:08.766Z"
   },
   {
    "duration": 1593,
    "start_time": "2022-02-08T08:23:14.591Z"
   },
   {
    "duration": 18,
    "start_time": "2022-02-08T08:23:16.186Z"
   },
   {
    "duration": 27,
    "start_time": "2022-02-08T08:23:16.209Z"
   },
   {
    "duration": 868,
    "start_time": "2022-02-08T08:23:16.238Z"
   },
   {
    "duration": 46,
    "start_time": "2022-02-08T08:23:17.108Z"
   },
   {
    "duration": 18,
    "start_time": "2022-02-08T08:23:17.156Z"
   },
   {
    "duration": 24,
    "start_time": "2022-02-08T08:23:17.178Z"
   },
   {
    "duration": 10,
    "start_time": "2022-02-08T08:23:17.204Z"
   },
   {
    "duration": 26,
    "start_time": "2022-02-08T08:23:17.216Z"
   },
   {
    "duration": 365,
    "start_time": "2022-02-08T08:23:17.244Z"
   },
   {
    "duration": 333,
    "start_time": "2022-02-08T08:23:17.618Z"
   },
   {
    "duration": 285,
    "start_time": "2022-02-08T08:23:17.954Z"
   },
   {
    "duration": 419,
    "start_time": "2022-02-08T08:23:18.241Z"
   },
   {
    "duration": 235,
    "start_time": "2022-02-08T08:23:18.663Z"
   },
   {
    "duration": 433,
    "start_time": "2022-02-08T08:23:18.900Z"
   },
   {
    "duration": 122,
    "start_time": "2022-02-08T08:23:19.335Z"
   },
   {
    "duration": 357,
    "start_time": "2022-02-08T08:23:19.459Z"
   },
   {
    "duration": 5,
    "start_time": "2022-02-08T08:23:19.819Z"
   },
   {
    "duration": 321,
    "start_time": "2022-02-08T08:23:19.826Z"
   },
   {
    "duration": 7,
    "start_time": "2022-02-08T08:23:20.149Z"
   },
   {
    "duration": 140,
    "start_time": "2022-02-08T08:23:20.157Z"
   },
   {
    "duration": 94,
    "start_time": "2022-02-08T08:23:20.302Z"
   },
   {
    "duration": 86,
    "start_time": "2022-02-08T08:23:20.399Z"
   },
   {
    "duration": 40,
    "start_time": "2022-02-08T08:23:20.487Z"
   },
   {
    "duration": 137,
    "start_time": "2022-02-08T08:23:20.529Z"
   },
   {
    "duration": 6,
    "start_time": "2022-02-08T08:23:20.668Z"
   },
   {
    "duration": 18,
    "start_time": "2022-02-08T08:23:20.676Z"
   },
   {
    "duration": 25,
    "start_time": "2022-02-08T08:23:20.696Z"
   },
   {
    "duration": 27,
    "start_time": "2022-02-08T08:23:20.723Z"
   },
   {
    "duration": 23,
    "start_time": "2022-02-08T08:23:20.752Z"
   },
   {
    "duration": 12,
    "start_time": "2022-02-08T08:23:20.777Z"
   },
   {
    "duration": 17,
    "start_time": "2022-02-08T08:23:20.791Z"
   },
   {
    "duration": 27,
    "start_time": "2022-02-08T08:24:05.817Z"
   },
   {
    "duration": 15,
    "start_time": "2022-02-08T08:24:32.160Z"
   },
   {
    "duration": 30,
    "start_time": "2022-02-08T08:24:57.697Z"
   },
   {
    "duration": 30,
    "start_time": "2022-02-08T08:25:33.038Z"
   },
   {
    "duration": 8,
    "start_time": "2022-02-08T08:28:09.517Z"
   },
   {
    "duration": 11,
    "start_time": "2022-02-08T08:28:22.475Z"
   },
   {
    "duration": 10,
    "start_time": "2022-02-08T08:39:13.207Z"
   },
   {
    "duration": 8,
    "start_time": "2022-02-08T08:39:53.028Z"
   },
   {
    "duration": 11,
    "start_time": "2022-02-08T08:40:07.138Z"
   },
   {
    "duration": 6,
    "start_time": "2022-02-08T08:40:49.580Z"
   },
   {
    "duration": 8,
    "start_time": "2022-02-08T08:41:02.873Z"
   },
   {
    "duration": 8,
    "start_time": "2022-02-08T08:41:13.290Z"
   },
   {
    "duration": 4,
    "start_time": "2022-02-08T08:41:49.285Z"
   },
   {
    "duration": 6,
    "start_time": "2022-02-08T08:42:01.402Z"
   },
   {
    "duration": 4,
    "start_time": "2022-02-08T08:42:13.861Z"
   },
   {
    "duration": 399,
    "start_time": "2022-02-08T08:50:47.428Z"
   },
   {
    "duration": 313,
    "start_time": "2022-02-08T08:50:55.364Z"
   },
   {
    "duration": 6,
    "start_time": "2022-02-08T08:51:20.230Z"
   },
   {
    "duration": 5,
    "start_time": "2022-02-08T08:51:26.464Z"
   },
   {
    "duration": 12,
    "start_time": "2022-02-08T08:51:47.982Z"
   },
   {
    "duration": 10,
    "start_time": "2022-02-08T08:52:26.390Z"
   },
   {
    "duration": 4,
    "start_time": "2022-02-08T09:05:55.193Z"
   },
   {
    "duration": 13,
    "start_time": "2022-02-08T10:29:48.742Z"
   },
   {
    "duration": 4,
    "start_time": "2022-02-08T10:30:14.060Z"
   },
   {
    "duration": 4,
    "start_time": "2022-02-08T10:30:32.768Z"
   },
   {
    "duration": 3,
    "start_time": "2022-02-08T10:30:43.433Z"
   },
   {
    "duration": 320,
    "start_time": "2022-02-08T10:34:57.401Z"
   },
   {
    "duration": 339,
    "start_time": "2022-02-08T10:35:01.526Z"
   },
   {
    "duration": 11,
    "start_time": "2022-02-08T12:00:38.012Z"
   },
   {
    "duration": 12,
    "start_time": "2022-02-08T12:00:56.874Z"
   },
   {
    "duration": 17,
    "start_time": "2022-02-08T12:01:42.189Z"
   },
   {
    "duration": 1653,
    "start_time": "2022-02-08T12:02:33.225Z"
   },
   {
    "duration": 1053,
    "start_time": "2022-02-08T12:02:38.791Z"
   },
   {
    "duration": 13,
    "start_time": "2022-02-08T12:02:41.957Z"
   },
   {
    "duration": 14,
    "start_time": "2022-02-08T12:02:52.062Z"
   },
   {
    "duration": 11,
    "start_time": "2022-02-08T12:02:57.134Z"
   },
   {
    "duration": 11,
    "start_time": "2022-02-08T12:09:29.601Z"
   },
   {
    "duration": 13,
    "start_time": "2022-02-08T12:09:42.737Z"
   },
   {
    "duration": 11,
    "start_time": "2022-02-08T12:09:48.002Z"
   },
   {
    "duration": 14,
    "start_time": "2022-02-08T12:11:14.359Z"
   },
   {
    "duration": 8,
    "start_time": "2022-02-08T12:11:33.890Z"
   },
   {
    "duration": 15,
    "start_time": "2022-02-08T12:12:13.847Z"
   },
   {
    "duration": 11,
    "start_time": "2022-02-08T12:12:23.906Z"
   },
   {
    "duration": 14,
    "start_time": "2022-02-08T12:12:27.354Z"
   },
   {
    "duration": 14,
    "start_time": "2022-02-08T12:12:32.368Z"
   },
   {
    "duration": 13,
    "start_time": "2022-02-08T12:12:48.094Z"
   },
   {
    "duration": 13,
    "start_time": "2022-02-08T12:12:56.573Z"
   },
   {
    "duration": 10,
    "start_time": "2022-02-08T12:13:11.258Z"
   },
   {
    "duration": 258,
    "start_time": "2022-02-08T12:13:25.610Z"
   },
   {
    "duration": 11,
    "start_time": "2022-02-08T12:13:30.675Z"
   },
   {
    "duration": 9,
    "start_time": "2022-02-08T12:13:48.239Z"
   },
   {
    "duration": 11,
    "start_time": "2022-02-08T12:13:52.098Z"
   },
   {
    "duration": 10,
    "start_time": "2022-02-08T12:13:58.365Z"
   },
   {
    "duration": 332,
    "start_time": "2022-02-08T12:19:31.307Z"
   },
   {
    "duration": 333,
    "start_time": "2022-02-08T12:20:14.140Z"
   },
   {
    "duration": 122,
    "start_time": "2022-02-08T12:20:47.530Z"
   },
   {
    "duration": 399,
    "start_time": "2022-02-08T13:18:24.708Z"
   },
   {
    "duration": 534,
    "start_time": "2022-02-08T13:19:02.551Z"
   },
   {
    "duration": 307,
    "start_time": "2022-02-08T13:19:59.802Z"
   },
   {
    "duration": 363,
    "start_time": "2022-02-08T13:20:07.677Z"
   },
   {
    "duration": 784,
    "start_time": "2022-02-08T13:20:21.388Z"
   },
   {
    "duration": 346,
    "start_time": "2022-02-08T13:20:26.943Z"
   },
   {
    "duration": 342,
    "start_time": "2022-02-08T13:21:16.194Z"
   },
   {
    "duration": 331,
    "start_time": "2022-02-08T14:55:13.883Z"
   },
   {
    "duration": 248,
    "start_time": "2022-02-08T14:55:48.245Z"
   },
   {
    "duration": 427,
    "start_time": "2022-02-08T14:56:01.740Z"
   },
   {
    "duration": 5,
    "start_time": "2022-02-08T14:57:29.968Z"
   },
   {
    "duration": 1442,
    "start_time": "2022-02-09T07:15:16.261Z"
   },
   {
    "duration": 13,
    "start_time": "2022-02-09T07:15:17.706Z"
   },
   {
    "duration": 572,
    "start_time": "2022-02-09T07:15:17.723Z"
   },
   {
    "duration": 66,
    "start_time": "2022-02-09T07:15:18.297Z"
   },
   {
    "duration": 30,
    "start_time": "2022-02-09T07:15:18.366Z"
   },
   {
    "duration": 35,
    "start_time": "2022-02-09T07:15:18.399Z"
   },
   {
    "duration": 23,
    "start_time": "2022-02-09T07:15:18.436Z"
   },
   {
    "duration": 14,
    "start_time": "2022-02-09T07:15:18.464Z"
   },
   {
    "duration": 14,
    "start_time": "2022-02-09T07:15:18.482Z"
   },
   {
    "duration": 833,
    "start_time": "2022-02-09T07:15:18.499Z"
   },
   {
    "duration": 554,
    "start_time": "2022-02-09T07:15:19.335Z"
   },
   {
    "duration": 441,
    "start_time": "2022-02-09T07:15:19.891Z"
   },
   {
    "duration": 553,
    "start_time": "2022-02-09T07:15:20.335Z"
   },
   {
    "duration": 391,
    "start_time": "2022-02-09T07:15:20.891Z"
   },
   {
    "duration": 678,
    "start_time": "2022-02-09T07:15:21.285Z"
   },
   {
    "duration": 238,
    "start_time": "2022-02-09T07:15:21.966Z"
   },
   {
    "duration": 447,
    "start_time": "2022-02-09T07:15:22.206Z"
   },
   {
    "duration": 8,
    "start_time": "2022-02-09T07:15:22.656Z"
   },
   {
    "duration": 435,
    "start_time": "2022-02-09T07:15:22.667Z"
   },
   {
    "duration": 8,
    "start_time": "2022-02-09T07:15:23.105Z"
   },
   {
    "duration": 204,
    "start_time": "2022-02-09T07:15:23.133Z"
   },
   {
    "duration": 139,
    "start_time": "2022-02-09T07:15:23.339Z"
   },
   {
    "duration": 139,
    "start_time": "2022-02-09T07:15:23.483Z"
   },
   {
    "duration": 53,
    "start_time": "2022-02-09T07:15:23.624Z"
   },
   {
    "duration": 226,
    "start_time": "2022-02-09T07:15:23.680Z"
   },
   {
    "duration": 8,
    "start_time": "2022-02-09T07:15:23.908Z"
   },
   {
    "duration": 17,
    "start_time": "2022-02-09T07:15:23.919Z"
   },
   {
    "duration": 17,
    "start_time": "2022-02-09T07:15:23.938Z"
   },
   {
    "duration": 12,
    "start_time": "2022-02-09T07:15:23.958Z"
   },
   {
    "duration": 15,
    "start_time": "2022-02-09T07:15:23.972Z"
   },
   {
    "duration": 49,
    "start_time": "2022-02-09T07:15:23.989Z"
   },
   {
    "duration": 23,
    "start_time": "2022-02-09T07:15:24.040Z"
   },
   {
    "duration": 8,
    "start_time": "2022-02-09T07:34:28.433Z"
   },
   {
    "duration": 9,
    "start_time": "2022-02-09T07:34:32.612Z"
   },
   {
    "duration": 484,
    "start_time": "2022-02-09T08:48:51.053Z"
   },
   {
    "duration": 10,
    "start_time": "2022-02-09T08:49:31.466Z"
   },
   {
    "duration": 9,
    "start_time": "2022-02-09T08:49:43.315Z"
   },
   {
    "duration": 86,
    "start_time": "2022-02-09T08:49:49.447Z"
   },
   {
    "duration": 10,
    "start_time": "2022-02-09T08:49:54.004Z"
   },
   {
    "duration": 15,
    "start_time": "2022-02-09T08:50:04.512Z"
   },
   {
    "duration": 9,
    "start_time": "2022-02-09T08:50:14.911Z"
   },
   {
    "duration": 85,
    "start_time": "2022-02-09T14:19:00.164Z"
   },
   {
    "duration": 86,
    "start_time": "2022-02-09T14:19:59.005Z"
   },
   {
    "duration": 367,
    "start_time": "2022-02-09T14:20:12.159Z"
   },
   {
    "duration": 1519,
    "start_time": "2022-02-09T14:20:36.931Z"
   },
   {
    "duration": 16,
    "start_time": "2022-02-09T14:20:38.453Z"
   },
   {
    "duration": 616,
    "start_time": "2022-02-09T14:20:38.472Z"
   },
   {
    "duration": 51,
    "start_time": "2022-02-09T14:20:39.091Z"
   },
   {
    "duration": 36,
    "start_time": "2022-02-09T14:20:39.144Z"
   },
   {
    "duration": 25,
    "start_time": "2022-02-09T14:20:39.182Z"
   },
   {
    "duration": 18,
    "start_time": "2022-02-09T14:20:39.209Z"
   },
   {
    "duration": 10,
    "start_time": "2022-02-09T14:20:39.231Z"
   },
   {
    "duration": 15,
    "start_time": "2022-02-09T14:20:39.269Z"
   },
   {
    "duration": 613,
    "start_time": "2022-02-09T14:20:39.286Z"
   },
   {
    "duration": 520,
    "start_time": "2022-02-09T14:20:39.902Z"
   },
   {
    "duration": 576,
    "start_time": "2022-02-09T14:20:40.425Z"
   },
   {
    "duration": 652,
    "start_time": "2022-02-09T14:20:41.005Z"
   },
   {
    "duration": 434,
    "start_time": "2022-02-09T14:20:41.659Z"
   },
   {
    "duration": 540,
    "start_time": "2022-02-09T14:20:42.096Z"
   },
   {
    "duration": 193,
    "start_time": "2022-02-09T14:20:42.639Z"
   },
   {
    "duration": 461,
    "start_time": "2022-02-09T14:20:42.834Z"
   },
   {
    "duration": 7,
    "start_time": "2022-02-09T14:20:43.298Z"
   },
   {
    "duration": 450,
    "start_time": "2022-02-09T14:20:43.308Z"
   },
   {
    "duration": 13,
    "start_time": "2022-02-09T14:20:43.762Z"
   },
   {
    "duration": 215,
    "start_time": "2022-02-09T14:20:43.777Z"
   },
   {
    "duration": 137,
    "start_time": "2022-02-09T14:20:43.995Z"
   },
   {
    "duration": 136,
    "start_time": "2022-02-09T14:20:44.137Z"
   },
   {
    "duration": 52,
    "start_time": "2022-02-09T14:20:44.276Z"
   },
   {
    "duration": 259,
    "start_time": "2022-02-09T14:20:44.331Z"
   },
   {
    "duration": 8,
    "start_time": "2022-02-09T14:20:44.593Z"
   },
   {
    "duration": 13,
    "start_time": "2022-02-09T14:20:44.603Z"
   },
   {
    "duration": 14,
    "start_time": "2022-02-09T14:20:44.618Z"
   },
   {
    "duration": 48,
    "start_time": "2022-02-09T14:20:44.635Z"
   },
   {
    "duration": 11,
    "start_time": "2022-02-09T14:20:44.686Z"
   },
   {
    "duration": 9,
    "start_time": "2022-02-09T14:20:44.700Z"
   },
   {
    "duration": 65,
    "start_time": "2022-02-09T14:20:44.713Z"
   },
   {
    "duration": 1612,
    "start_time": "2022-02-09T17:44:39.937Z"
   },
   {
    "duration": 14,
    "start_time": "2022-02-09T17:44:41.552Z"
   },
   {
    "duration": 86242,
    "start_time": "2022-02-09T17:44:41.570Z"
   },
   {
    "duration": 79,
    "start_time": "2022-02-09T17:46:07.816Z"
   },
   {
    "duration": 32,
    "start_time": "2022-02-09T17:46:07.898Z"
   },
   {
    "duration": 38,
    "start_time": "2022-02-09T17:46:07.933Z"
   },
   {
    "duration": 27,
    "start_time": "2022-02-09T17:46:07.975Z"
   },
   {
    "duration": 16,
    "start_time": "2022-02-09T17:46:08.007Z"
   },
   {
    "duration": 56,
    "start_time": "2022-02-09T17:46:08.027Z"
   },
   {
    "duration": 1045,
    "start_time": "2022-02-09T17:46:08.087Z"
   },
   {
    "duration": 698,
    "start_time": "2022-02-09T17:46:09.136Z"
   },
   {
    "duration": 480,
    "start_time": "2022-02-09T17:46:09.838Z"
   },
   {
    "duration": 623,
    "start_time": "2022-02-09T17:46:10.321Z"
   },
   {
    "duration": 458,
    "start_time": "2022-02-09T17:46:10.947Z"
   },
   {
    "duration": 565,
    "start_time": "2022-02-09T17:46:11.408Z"
   },
   {
    "duration": 279,
    "start_time": "2022-02-09T17:46:11.975Z"
   },
   {
    "duration": 465,
    "start_time": "2022-02-09T17:46:12.256Z"
   },
   {
    "duration": 7,
    "start_time": "2022-02-09T17:46:12.724Z"
   },
   {
    "duration": 519,
    "start_time": "2022-02-09T17:46:12.733Z"
   },
   {
    "duration": 15,
    "start_time": "2022-02-09T17:46:13.254Z"
   },
   {
    "duration": 221,
    "start_time": "2022-02-09T17:46:13.272Z"
   },
   {
    "duration": 222,
    "start_time": "2022-02-09T17:46:13.497Z"
   },
   {
    "duration": 212,
    "start_time": "2022-02-09T17:46:13.727Z"
   },
   {
    "duration": 64,
    "start_time": "2022-02-09T17:46:13.942Z"
   },
   {
    "duration": 253,
    "start_time": "2022-02-09T17:46:14.008Z"
   },
   {
    "duration": 14,
    "start_time": "2022-02-09T17:46:14.263Z"
   },
   {
    "duration": 29,
    "start_time": "2022-02-09T17:46:14.279Z"
   },
   {
    "duration": 36,
    "start_time": "2022-02-09T17:46:14.312Z"
   },
   {
    "duration": 18,
    "start_time": "2022-02-09T17:46:14.351Z"
   },
   {
    "duration": 22,
    "start_time": "2022-02-09T17:46:14.372Z"
   },
   {
    "duration": 31,
    "start_time": "2022-02-09T17:46:14.399Z"
   },
   {
    "duration": 104,
    "start_time": "2022-02-09T17:46:14.433Z"
   },
   {
    "duration": 7,
    "start_time": "2022-02-09T17:57:47.138Z"
   },
   {
    "duration": 7,
    "start_time": "2022-02-09T17:58:27.487Z"
   },
   {
    "duration": 164,
    "start_time": "2022-02-10T10:48:17.143Z"
   },
   {
    "duration": 115,
    "start_time": "2022-02-10T10:48:20.754Z"
   },
   {
    "duration": 36,
    "start_time": "2022-02-10T10:48:25.505Z"
   },
   {
    "duration": 49,
    "start_time": "2022-02-10T10:48:47.427Z"
   },
   {
    "duration": 421,
    "start_time": "2022-02-10T10:58:07.868Z"
   },
   {
    "duration": 16,
    "start_time": "2022-02-10T10:58:18.255Z"
   },
   {
    "duration": 15,
    "start_time": "2022-02-10T10:58:44.139Z"
   },
   {
    "duration": 16,
    "start_time": "2022-02-10T10:59:04.666Z"
   },
   {
    "duration": 14,
    "start_time": "2022-02-10T10:59:18.551Z"
   },
   {
    "duration": 15,
    "start_time": "2022-02-10T10:59:54.532Z"
   },
   {
    "duration": 14,
    "start_time": "2022-02-10T11:06:03.766Z"
   },
   {
    "duration": 96,
    "start_time": "2022-02-10T11:32:44.898Z"
   },
   {
    "duration": 21,
    "start_time": "2022-02-10T11:32:53.868Z"
   },
   {
    "duration": 9,
    "start_time": "2022-02-10T11:33:20.321Z"
   },
   {
    "duration": 14,
    "start_time": "2022-02-10T11:34:42.545Z"
   },
   {
    "duration": 1571,
    "start_time": "2022-02-10T20:29:59.826Z"
   },
   {
    "duration": 15,
    "start_time": "2022-02-10T20:30:01.400Z"
   },
   {
    "duration": 59994,
    "start_time": "2022-02-10T20:30:01.419Z"
   },
   {
    "duration": 64,
    "start_time": "2022-02-10T20:31:01.416Z"
   },
   {
    "duration": 41,
    "start_time": "2022-02-10T20:31:01.483Z"
   },
   {
    "duration": 27,
    "start_time": "2022-02-10T20:31:01.527Z"
   },
   {
    "duration": 28,
    "start_time": "2022-02-10T20:31:01.557Z"
   },
   {
    "duration": 11,
    "start_time": "2022-02-10T20:31:01.589Z"
   },
   {
    "duration": 25,
    "start_time": "2022-02-10T20:31:01.603Z"
   },
   {
    "duration": 738,
    "start_time": "2022-02-10T20:31:01.631Z"
   },
   {
    "duration": 522,
    "start_time": "2022-02-10T20:31:02.371Z"
   },
   {
    "duration": 448,
    "start_time": "2022-02-10T20:31:02.896Z"
   },
   {
    "duration": 543,
    "start_time": "2022-02-10T20:31:03.348Z"
   },
   {
    "duration": 416,
    "start_time": "2022-02-10T20:31:03.894Z"
   },
   {
    "duration": 620,
    "start_time": "2022-02-10T20:31:04.313Z"
   },
   {
    "duration": 197,
    "start_time": "2022-02-10T20:31:04.936Z"
   },
   {
    "duration": 484,
    "start_time": "2022-02-10T20:31:05.136Z"
   },
   {
    "duration": 6,
    "start_time": "2022-02-10T20:31:05.623Z"
   },
   {
    "duration": 509,
    "start_time": "2022-02-10T20:31:05.631Z"
   },
   {
    "duration": 7,
    "start_time": "2022-02-10T20:31:06.143Z"
   },
   {
    "duration": 218,
    "start_time": "2022-02-10T20:31:06.153Z"
   },
   {
    "duration": 132,
    "start_time": "2022-02-10T20:31:06.374Z"
   },
   {
    "duration": 130,
    "start_time": "2022-02-10T20:31:06.511Z"
   },
   {
    "duration": 61,
    "start_time": "2022-02-10T20:31:06.644Z"
   },
   {
    "duration": 239,
    "start_time": "2022-02-10T20:31:06.707Z"
   },
   {
    "duration": 33,
    "start_time": "2022-02-10T20:31:06.948Z"
   },
   {
    "duration": 15,
    "start_time": "2022-02-10T20:31:06.983Z"
   },
   {
    "duration": 17,
    "start_time": "2022-02-10T20:31:07.001Z"
   },
   {
    "duration": 50,
    "start_time": "2022-02-10T20:31:07.020Z"
   },
   {
    "duration": 13,
    "start_time": "2022-02-10T20:31:07.072Z"
   },
   {
    "duration": 22,
    "start_time": "2022-02-10T20:31:07.088Z"
   },
   {
    "duration": 6,
    "start_time": "2022-02-10T20:31:35.495Z"
   },
   {
    "duration": 7,
    "start_time": "2022-02-10T20:31:44.670Z"
   },
   {
    "duration": 6,
    "start_time": "2022-02-10T20:31:51.870Z"
   },
   {
    "duration": 1483,
    "start_time": "2022-03-09T07:44:39.866Z"
   },
   {
    "duration": 13,
    "start_time": "2022-03-09T07:44:41.352Z"
   },
   {
    "duration": 751,
    "start_time": "2022-03-09T07:44:41.368Z"
   },
   {
    "duration": 68,
    "start_time": "2022-03-09T07:44:42.122Z"
   },
   {
    "duration": 27,
    "start_time": "2022-03-09T07:44:42.193Z"
   },
   {
    "duration": 36,
    "start_time": "2022-03-09T07:44:42.222Z"
   },
   {
    "duration": 17,
    "start_time": "2022-03-09T07:44:42.261Z"
   },
   {
    "duration": 14,
    "start_time": "2022-03-09T07:44:42.284Z"
   },
   {
    "duration": 18,
    "start_time": "2022-03-09T07:44:42.301Z"
   },
   {
    "duration": 591,
    "start_time": "2022-03-09T07:44:42.321Z"
   },
   {
    "duration": 498,
    "start_time": "2022-03-09T07:44:42.915Z"
   },
   {
    "duration": 496,
    "start_time": "2022-03-09T07:44:43.416Z"
   },
   {
    "duration": 551,
    "start_time": "2022-03-09T07:44:43.915Z"
   },
   {
    "duration": 414,
    "start_time": "2022-03-09T07:44:44.468Z"
   },
   {
    "duration": 568,
    "start_time": "2022-03-09T07:44:44.884Z"
   },
   {
    "duration": 335,
    "start_time": "2022-03-09T07:44:45.454Z"
   },
   {
    "duration": 557,
    "start_time": "2022-03-09T07:44:45.791Z"
   },
   {
    "duration": 8,
    "start_time": "2022-03-09T07:44:46.352Z"
   },
   {
    "duration": 485,
    "start_time": "2022-03-09T07:44:46.362Z"
   },
   {
    "duration": 7,
    "start_time": "2022-03-09T07:44:46.850Z"
   },
   {
    "duration": 208,
    "start_time": "2022-03-09T07:44:46.860Z"
   },
   {
    "duration": 138,
    "start_time": "2022-03-09T07:44:47.071Z"
   },
   {
    "duration": 129,
    "start_time": "2022-03-09T07:44:47.214Z"
   },
   {
    "duration": 66,
    "start_time": "2022-03-09T07:44:47.346Z"
   },
   {
    "duration": 249,
    "start_time": "2022-03-09T07:44:47.415Z"
   },
   {
    "duration": 23,
    "start_time": "2022-03-09T07:44:47.667Z"
   },
   {
    "duration": 15,
    "start_time": "2022-03-09T07:44:47.693Z"
   },
   {
    "duration": 15,
    "start_time": "2022-03-09T07:44:47.710Z"
   },
   {
    "duration": 11,
    "start_time": "2022-03-09T07:44:47.727Z"
   },
   {
    "duration": 50,
    "start_time": "2022-03-09T07:44:47.740Z"
   },
   {
    "duration": 19,
    "start_time": "2022-03-09T07:44:47.793Z"
   },
   {
    "duration": 17,
    "start_time": "2022-03-09T07:45:11.039Z"
   },
   {
    "duration": 1978,
    "start_time": "2022-03-11T18:37:31.790Z"
   },
   {
    "duration": 32,
    "start_time": "2022-03-11T18:37:33.771Z"
   },
   {
    "duration": 792,
    "start_time": "2022-03-11T18:37:33.807Z"
   },
   {
    "duration": 87,
    "start_time": "2022-03-11T18:37:34.603Z"
   },
   {
    "duration": 51,
    "start_time": "2022-03-11T18:37:34.693Z"
   },
   {
    "duration": 25,
    "start_time": "2022-03-11T18:37:34.747Z"
   },
   {
    "duration": 34,
    "start_time": "2022-03-11T18:37:34.775Z"
   },
   {
    "duration": 21,
    "start_time": "2022-03-11T18:37:34.813Z"
   },
   {
    "duration": 23,
    "start_time": "2022-03-11T18:37:34.837Z"
   },
   {
    "duration": 593,
    "start_time": "2022-03-11T18:37:34.863Z"
   },
   {
    "duration": 506,
    "start_time": "2022-03-11T18:37:35.459Z"
   },
   {
    "duration": 494,
    "start_time": "2022-03-11T18:37:35.967Z"
   },
   {
    "duration": 576,
    "start_time": "2022-03-11T18:37:36.464Z"
   },
   {
    "duration": 409,
    "start_time": "2022-03-11T18:37:37.046Z"
   },
   {
    "duration": 597,
    "start_time": "2022-03-11T18:37:37.458Z"
   },
   {
    "duration": 210,
    "start_time": "2022-03-11T18:37:38.058Z"
   },
   {
    "duration": 421,
    "start_time": "2022-03-11T18:37:38.270Z"
   },
   {
    "duration": 8,
    "start_time": "2022-03-11T18:37:38.694Z"
   },
   {
    "duration": 570,
    "start_time": "2022-03-11T18:37:38.704Z"
   },
   {
    "duration": 7,
    "start_time": "2022-03-11T18:37:39.277Z"
   },
   {
    "duration": 212,
    "start_time": "2022-03-11T18:37:39.286Z"
   },
   {
    "duration": 132,
    "start_time": "2022-03-11T18:37:39.500Z"
   },
   {
    "duration": 139,
    "start_time": "2022-03-11T18:37:39.637Z"
   },
   {
    "duration": 66,
    "start_time": "2022-03-11T18:37:39.779Z"
   },
   {
    "duration": 239,
    "start_time": "2022-03-11T18:37:39.848Z"
   },
   {
    "duration": 17,
    "start_time": "2022-03-11T18:37:40.089Z"
   },
   {
    "duration": 40,
    "start_time": "2022-03-11T18:37:40.109Z"
   },
   {
    "duration": 15,
    "start_time": "2022-03-11T18:37:40.152Z"
   },
   {
    "duration": 12,
    "start_time": "2022-03-11T18:37:40.170Z"
   },
   {
    "duration": 14,
    "start_time": "2022-03-11T18:37:40.185Z"
   },
   {
    "duration": 50,
    "start_time": "2022-03-11T18:37:40.201Z"
   }
  ],
  "kernelspec": {
   "display_name": "Python 3 (ipykernel)",
   "language": "python",
   "name": "python3"
  },
  "language_info": {
   "codemirror_mode": {
    "name": "ipython",
    "version": 3
   },
   "file_extension": ".py",
   "mimetype": "text/x-python",
   "name": "python",
   "nbconvert_exporter": "python",
   "pygments_lexer": "ipython3",
   "version": "3.9.7"
  },
  "toc": {
   "base_numbering": 1,
   "nav_menu": {},
   "number_sections": true,
   "sideBar": true,
   "skip_h1_title": true,
   "title_cell": "Table of Contents",
   "title_sidebar": "Contents",
   "toc_cell": false,
   "toc_position": {
    "height": "calc(100% - 180px)",
    "left": "10px",
    "top": "150px",
    "width": "318.391px"
   },
   "toc_section_display": true,
   "toc_window_display": false
  }
 },
 "nbformat": 4,
 "nbformat_minor": 2
}
